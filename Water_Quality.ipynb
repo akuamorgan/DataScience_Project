{
 "cells": [
  {
   "cell_type": "markdown",
   "metadata": {},
   "source": [
    "#                                    INTRODUCTION"
   ]
  },
  {
   "cell_type": "markdown",
   "metadata": {},
   "source": [
    "The problem of water pollution or decreased water quality has become very huge that the existence of biodiversity and multiple human communities have been threatened. This is such bad that almost 1.5 million children have been reported to have died due to catching diarrhea in India. A World Bank report also shows that population reduces the growth of an economy. Thus, a high increase in water pollution the higher loss in economic growth of the economy.\n",
    "For these reasons it is important for the ministry in charge of water and sanitation as well as the major stakeholders in providing water to know the quality of the water bodies and the quality of water they produce for the consumption of the people of India.\n",
    "Improved water supply and sanitation, and better management of water resources, can greatly reduce illnesses such as cholera, diarrhea, dysentery, hepatitis A, typhoid, and polio. Consequently, the country's economic growth will be boosted leading to poverty reduction.\n",
    "\n",
    "So, being motivated by the above reasons stated, we use this Water Quality dataset collected for India to understand what constitutes to safe, Potable water and apply machine learning models to classify the water according to the water quality index. This model can be used as an aid to help experts quickly determine water quality and make decisions as to whether it is good for human consumption."
   ]
  },
  {
   "cell_type": "markdown",
   "metadata": {},
   "source": [
    "## Table of Contents\n",
    "\n",
    "* [1. Feature Description](#Features)\n",
    "* [2. International Standard and weight for Water quality](#RECOMMENDED)\n",
    "* [3. Import Libraries](#IMPORTLIB)\n",
    "* [4. Load Data](#LoadData)\n",
    "* [5. EDA](#EDA)\n",
    "* [6. Feature Engineering](#FeatureEng)\n",
    "* [7. Model Creation](#ModelC)\n",
    "* [7.1 Water Quality Prediction](#Prediction)\n",
    "* [7.2 Training and Testing Models](#TnTModels)\n",
    "* [8. Using Saved Models](#SavedModels)\n"
   ]
  },
  {
   "cell_type": "markdown",
   "metadata": {},
   "source": [
    "## 1. Feature Description <a class=\"anchor\" id=\"Features\"></a>"
   ]
  },
  {
   "cell_type": "code",
   "execution_count": null,
   "metadata": {},
   "outputs": [],
   "source": [
    "1. **STATION CODE**\n",
    "\n",
    "2. **LOCATION**\n",
    "\n",
    "3. **STATE**\n",
    "\n",
    "4. **TEMP**: Temperature of the water in degree celcius.\n",
    "    \n",
    "5. **DO**: Dissolved Oxygen in water.\n",
    "\n",
    "6. **ph**: pH of 1. water (0 to 14).\n",
    "\n",
    "7. **Conductivity**: Electrical conductivity of water.\n",
    "\n",
    "8. **BOD**: Biological oxygen demand is the amount of oxygen consumed by bacteria in water\n",
    "    \n",
    "9. **NITRATES**: Nutrient nitrate in water.\n",
    "    \n",
    "10. **FECAL_COLIFORM**: they may indicate the presence of other pathogenic bacteria in water"
   ]
  },
  {
   "cell_type": "markdown",
   "metadata": {},
   "source": [
    "## 2. RECOMMENDED STANDARD AND WEIGHT FOR WATER QUALITY PARAMETERS <a class=\"anchor\" id=\"RECOMMENDED\" ></a>"
   ]
  },
  {
   "cell_type": "code",
   "execution_count": null,
   "metadata": {},
   "outputs": [],
   "source": [
    "#FEATURE   STANDARD    WEIGHT\n",
    "\n",
    "#TEMP        30         0.05\n",
    "#DO          6          0.27\n",
    "#PH          8.5        0.19\n",
    "#EC          300        0.01\n",
    "#BOD         6          0.27\n",
    "#NITRATE     45         0.04  \n",
    "#FECAL_COLI  10         0.16"
   ]
  },
  {
   "cell_type": "markdown",
   "metadata": {},
   "source": [
    "## 3. IMPORT LIBRARIES <a class=\"anchor\" id=\"IMPORTLIB\" ></a>"
   ]
  },
  {
   "cell_type": "code",
   "execution_count": 1,
   "metadata": {
    "gather": {
     "logged": 1628752298163
    }
   },
   "outputs": [],
   "source": [
    "# Basic Libraries\n",
    "import numpy as np\n",
    "import pandas as pd\n",
    "from warnings import filterwarnings\n",
    "from collections import Counter\n",
    "\n",
    "# Visualizations Libraries\n",
    "import matplotlib.pyplot as plt\n",
    "import seaborn as sns\n",
    "\n",
    "# Data Pre-processing Libraries\n",
    "from sklearn.preprocessing import StandardScaler,MinMaxScaler,LabelEncoder\n",
    "from sklearn.model_selection import train_test_split\n",
    "from sklearn.pipeline import Pipeline\n",
    "\n",
    "# Modelling Libraries\n",
    "from sklearn.linear_model import LinearRegression, LogisticRegression,RidgeClassifier,SGDClassifier,PassiveAggressiveClassifier\n",
    "from sklearn.linear_model import Perceptron\n",
    "from sklearn.svm import SVC,LinearSVC,NuSVC\n",
    "from sklearn.neighbors import KNeighborsClassifier,NearestCentroid\n",
    "from sklearn.tree import DecisionTreeClassifier\n",
    "from sklearn.ensemble import RandomForestClassifier,AdaBoostClassifier,GradientBoostingClassifier\n",
    "from sklearn.naive_bayes import GaussianNB,BernoulliNB\n",
    "from sklearn.ensemble import VotingClassifier\n",
    "\n",
    "# Evaluation & CV Libraries\n",
    "from sklearn.metrics import precision_score,accuracy_score,classification_report,confusion_matrix\n",
    "from sklearn.model_selection import RandomizedSearchCV,GridSearchCV,RepeatedStratifiedKFold\n"
   ]
  },
  {
   "cell_type": "markdown",
   "metadata": {},
   "source": [
    "## 4. LOAD DATA <a class=\"anchor\" id=\"LoadData\" ></a>"
   ]
  },
  {
   "cell_type": "code",
   "execution_count": 39,
   "metadata": {
    "gather": {
     "logged": 1628752569956
    }
   },
   "outputs": [],
   "source": [
    "df = pd.read_csv('waterquality.csv',engine='python')"
   ]
  },
  {
   "cell_type": "code",
   "execution_count": 3,
   "metadata": {},
   "outputs": [
    {
     "data": {
      "text/html": [
       "<div>\n",
       "<style scoped>\n",
       "    .dataframe tbody tr th:only-of-type {\n",
       "        vertical-align: middle;\n",
       "    }\n",
       "\n",
       "    .dataframe tbody tr th {\n",
       "        vertical-align: top;\n",
       "    }\n",
       "\n",
       "    .dataframe thead th {\n",
       "        text-align: right;\n",
       "    }\n",
       "</style>\n",
       "<table border=\"1\" class=\"dataframe\">\n",
       "  <thead>\n",
       "    <tr style=\"text-align: right;\">\n",
       "      <th></th>\n",
       "      <th>STATION CODE</th>\n",
       "      <th>LOCATIONS</th>\n",
       "      <th>STATE</th>\n",
       "      <th>TEMP</th>\n",
       "      <th>DO</th>\n",
       "      <th>pH</th>\n",
       "      <th>CONDUCTIVITY</th>\n",
       "      <th>BOD</th>\n",
       "      <th>NITRATE_N_NITRITE_N</th>\n",
       "      <th>FECAL_COLIFORM</th>\n",
       "      <th>TOTAL_COLIFORM</th>\n",
       "    </tr>\n",
       "  </thead>\n",
       "  <tbody>\n",
       "    <tr>\n",
       "      <th>0</th>\n",
       "      <td>1312</td>\n",
       "      <td>GODAVARI AT JAYAKWADI DAM, AURNAGABAD,MAHARASHTRA</td>\n",
       "      <td>MAHARASHTRA</td>\n",
       "      <td>29.2</td>\n",
       "      <td>6.4</td>\n",
       "      <td>8.1</td>\n",
       "      <td>735.0</td>\n",
       "      <td>3.4</td>\n",
       "      <td>2.00</td>\n",
       "      <td>3.0</td>\n",
       "      <td>73.0</td>\n",
       "    </tr>\n",
       "    <tr>\n",
       "      <th>1</th>\n",
       "      <td>2177</td>\n",
       "      <td>GODAVARI RIVER NEAR SOMESHWAR TEMPLE.</td>\n",
       "      <td>MAHARASHTRA</td>\n",
       "      <td>24.5</td>\n",
       "      <td>6.0</td>\n",
       "      <td>8.0</td>\n",
       "      <td>270.0</td>\n",
       "      <td>3.1</td>\n",
       "      <td>2.00</td>\n",
       "      <td>72.0</td>\n",
       "      <td>182.0</td>\n",
       "    </tr>\n",
       "    <tr>\n",
       "      <th>2</th>\n",
       "      <td>2182</td>\n",
       "      <td>GODAVARI RIVER AT SAIKHEDA.</td>\n",
       "      <td>MAHARASHTRA</td>\n",
       "      <td>25.8</td>\n",
       "      <td>5.5</td>\n",
       "      <td>7.8</td>\n",
       "      <td>355.0</td>\n",
       "      <td>4.2</td>\n",
       "      <td>9.00</td>\n",
       "      <td>59.0</td>\n",
       "      <td>133.0</td>\n",
       "    </tr>\n",
       "    <tr>\n",
       "      <th>3</th>\n",
       "      <td>2179</td>\n",
       "      <td>GODAVARI RIVER AT HANUMAN GHAT, NASHIK CITY.</td>\n",
       "      <td>MAHARASHTRA</td>\n",
       "      <td>24.8</td>\n",
       "      <td>5.5</td>\n",
       "      <td>7.8</td>\n",
       "      <td>371.0</td>\n",
       "      <td>5.6</td>\n",
       "      <td>3.55</td>\n",
       "      <td>90.0</td>\n",
       "      <td>283.0</td>\n",
       "    </tr>\n",
       "    <tr>\n",
       "      <th>4</th>\n",
       "      <td>2183</td>\n",
       "      <td>GODAVARI RIVER AT NANDUR- MADMESHWAR DAM.</td>\n",
       "      <td>MAHARASHTRA</td>\n",
       "      <td>25.7</td>\n",
       "      <td>5.7</td>\n",
       "      <td>7.9</td>\n",
       "      <td>294.0</td>\n",
       "      <td>3.2</td>\n",
       "      <td>2.69</td>\n",
       "      <td>45.0</td>\n",
       "      <td>132.0</td>\n",
       "    </tr>\n",
       "  </tbody>\n",
       "</table>\n",
       "</div>"
      ],
      "text/plain": [
       "   STATION CODE                                          LOCATIONS  \\\n",
       "0          1312  GODAVARI AT JAYAKWADI DAM, AURNAGABAD,MAHARASHTRA   \n",
       "1          2177              GODAVARI RIVER NEAR SOMESHWAR TEMPLE.   \n",
       "2          2182                        GODAVARI RIVER AT SAIKHEDA.   \n",
       "3          2179       GODAVARI RIVER AT HANUMAN GHAT, NASHIK CITY.   \n",
       "4          2183          GODAVARI RIVER AT NANDUR- MADMESHWAR DAM.   \n",
       "\n",
       "         STATE  TEMP   DO   pH  CONDUCTIVITY  BOD  NITRATE_N_NITRITE_N  \\\n",
       "0  MAHARASHTRA  29.2  6.4  8.1         735.0  3.4                 2.00   \n",
       "1  MAHARASHTRA  24.5  6.0  8.0         270.0  3.1                 2.00   \n",
       "2  MAHARASHTRA  25.8  5.5  7.8         355.0  4.2                 9.00   \n",
       "3  MAHARASHTRA  24.8  5.5  7.8         371.0  5.6                 3.55   \n",
       "4  MAHARASHTRA  25.7  5.7  7.9         294.0  3.2                 2.69   \n",
       "\n",
       "   FECAL_COLIFORM  TOTAL_COLIFORM  \n",
       "0             3.0            73.0  \n",
       "1            72.0           182.0  \n",
       "2            59.0           133.0  \n",
       "3            90.0           283.0  \n",
       "4            45.0           132.0  "
      ]
     },
     "execution_count": 3,
     "metadata": {},
     "output_type": "execute_result"
    }
   ],
   "source": [
    "df.head()"
   ]
  },
  {
   "cell_type": "code",
   "execution_count": 4,
   "metadata": {},
   "outputs": [
    {
     "data": {
      "text/plain": [
       "(534, 11)"
      ]
     },
     "execution_count": 4,
     "metadata": {},
     "output_type": "execute_result"
    }
   ],
   "source": [
    "df.shape"
   ]
  },
  {
   "cell_type": "code",
   "execution_count": 5,
   "metadata": {},
   "outputs": [
    {
     "data": {
      "text/plain": [
       "STATION CODE             int64\n",
       "LOCATIONS               object\n",
       "STATE                   object\n",
       "TEMP                   float64\n",
       "DO                     float64\n",
       "pH                     float64\n",
       "CONDUCTIVITY           float64\n",
       "BOD                    float64\n",
       "NITRATE_N_NITRITE_N    float64\n",
       "FECAL_COLIFORM         float64\n",
       "TOTAL_COLIFORM         float64\n",
       "dtype: object"
      ]
     },
     "execution_count": 5,
     "metadata": {},
     "output_type": "execute_result"
    }
   ],
   "source": [
    "df.dtypes"
   ]
  },
  {
   "cell_type": "markdown",
   "metadata": {},
   "source": [
    "## 5. EDA <a class=\"anchor\" id=\"EDA\" ></a>"
   ]
  },
  {
   "cell_type": "code",
   "execution_count": 6,
   "metadata": {},
   "outputs": [
    {
     "data": {
      "text/plain": [
       "STATION CODE            0\n",
       "LOCATIONS               0\n",
       "STATE                   0\n",
       "TEMP                    5\n",
       "DO                      2\n",
       "pH                      0\n",
       "CONDUCTIVITY           30\n",
       "BOD                     6\n",
       "NITRATE_N_NITRITE_N     2\n",
       "FECAL_COLIFORM         82\n",
       "TOTAL_COLIFORM         39\n",
       "dtype: int64"
      ]
     },
     "execution_count": 6,
     "metadata": {},
     "output_type": "execute_result"
    }
   ],
   "source": [
    "#checking for missing values\n",
    "df.isnull().sum()"
   ]
  },
  {
   "cell_type": "markdown",
   "metadata": {},
   "source": [
    "Missing values do not occur at random. There maybe various reasons but we looked at it from the State point of view. With the 5 missing temperature values 4 were from Delhi and 1 from GUJARAT.\n",
    "So we decide to fill all missing values with the median of values with the same STATE.\n",
    "Example, we use delhi's median temperature value to fill missing delhi's temperature values. likewise we use Gujarat median temperature value to fill missing Gujarat temperature values.\n",
    "This was done to fill all missing values"
   ]
  },
  {
   "cell_type": "code",
   "execution_count": 7,
   "metadata": {},
   "outputs": [
    {
     "data": {
      "text/plain": [
       "(array([135, 136, 137, 142, 491], dtype=int64),)"
      ]
     },
     "execution_count": 7,
     "metadata": {},
     "output_type": "execute_result"
    }
   ],
   "source": [
    "#Temperature has five missing values\n",
    "np.where(pd.isnull(df['TEMP']))"
   ]
  },
  {
   "cell_type": "code",
   "execution_count": 8,
   "metadata": {},
   "outputs": [
    {
     "data": {
      "text/html": [
       "<div>\n",
       "<style scoped>\n",
       "    .dataframe tbody tr th:only-of-type {\n",
       "        vertical-align: middle;\n",
       "    }\n",
       "\n",
       "    .dataframe tbody tr th {\n",
       "        vertical-align: top;\n",
       "    }\n",
       "\n",
       "    .dataframe thead th {\n",
       "        text-align: right;\n",
       "    }\n",
       "</style>\n",
       "<table border=\"1\" class=\"dataframe\">\n",
       "  <thead>\n",
       "    <tr style=\"text-align: right;\">\n",
       "      <th></th>\n",
       "      <th>STATION CODE</th>\n",
       "      <th>LOCATIONS</th>\n",
       "      <th>STATE</th>\n",
       "      <th>TEMP</th>\n",
       "      <th>DO</th>\n",
       "      <th>pH</th>\n",
       "      <th>CONDUCTIVITY</th>\n",
       "      <th>BOD</th>\n",
       "      <th>NITRATE_N_NITRITE_N</th>\n",
       "      <th>FECAL_COLIFORM</th>\n",
       "      <th>TOTAL_COLIFORM</th>\n",
       "    </tr>\n",
       "  </thead>\n",
       "  <tbody>\n",
       "    <tr>\n",
       "      <th>135</th>\n",
       "      <td>1120</td>\n",
       "      <td>YAMUNA AT WAZIRABAD, DELHI, CPCB</td>\n",
       "      <td>DELHI</td>\n",
       "      <td>NaN</td>\n",
       "      <td>9.3</td>\n",
       "      <td>7.6</td>\n",
       "      <td>NaN</td>\n",
       "      <td>2.4</td>\n",
       "      <td>NaN</td>\n",
       "      <td>NaN</td>\n",
       "      <td>10003.0</td>\n",
       "    </tr>\n",
       "    <tr>\n",
       "      <th>136</th>\n",
       "      <td>1121</td>\n",
       "      <td>YAMUNA AT NIZAMUDDIN, DELHI</td>\n",
       "      <td>DELHI</td>\n",
       "      <td>NaN</td>\n",
       "      <td>1.2</td>\n",
       "      <td>7.5</td>\n",
       "      <td>NaN</td>\n",
       "      <td>17.2</td>\n",
       "      <td>9.0</td>\n",
       "      <td>NaN</td>\n",
       "      <td>12010833.0</td>\n",
       "    </tr>\n",
       "    <tr>\n",
       "      <th>137</th>\n",
       "      <td>1375</td>\n",
       "      <td>YAMUNA AT OKHLA BRIDGE (INLET OF AGRA CANAL), ...</td>\n",
       "      <td>DELHI</td>\n",
       "      <td>NaN</td>\n",
       "      <td>1.4</td>\n",
       "      <td>7.6</td>\n",
       "      <td>NaN</td>\n",
       "      <td>17.3</td>\n",
       "      <td>9.2</td>\n",
       "      <td>NaN</td>\n",
       "      <td>23816667.0</td>\n",
       "    </tr>\n",
       "    <tr>\n",
       "      <th>142</th>\n",
       "      <td>1812</td>\n",
       "      <td>YAMUNA AT OKHLA AFTER MEETING OF SHAHDARA DRAI...</td>\n",
       "      <td>DELHI</td>\n",
       "      <td>NaN</td>\n",
       "      <td>1.4</td>\n",
       "      <td>7.5</td>\n",
       "      <td>NaN</td>\n",
       "      <td>38.2</td>\n",
       "      <td>NaN</td>\n",
       "      <td>NaN</td>\n",
       "      <td>18580000.0</td>\n",
       "    </tr>\n",
       "    <tr>\n",
       "      <th>491</th>\n",
       "      <td>3206</td>\n",
       "      <td>MAHI AT SHERKHI BRIDGE</td>\n",
       "      <td>GUJARAT</td>\n",
       "      <td>NaN</td>\n",
       "      <td>4.2</td>\n",
       "      <td>8.7</td>\n",
       "      <td>NaN</td>\n",
       "      <td>0.3</td>\n",
       "      <td>0.0</td>\n",
       "      <td>NaN</td>\n",
       "      <td>NaN</td>\n",
       "    </tr>\n",
       "  </tbody>\n",
       "</table>\n",
       "</div>"
      ],
      "text/plain": [
       "     STATION CODE                                          LOCATIONS    STATE  \\\n",
       "135          1120                   YAMUNA AT WAZIRABAD, DELHI, CPCB    DELHI   \n",
       "136          1121                        YAMUNA AT NIZAMUDDIN, DELHI    DELHI   \n",
       "137          1375  YAMUNA AT OKHLA BRIDGE (INLET OF AGRA CANAL), ...    DELHI   \n",
       "142          1812  YAMUNA AT OKHLA AFTER MEETING OF SHAHDARA DRAI...    DELHI   \n",
       "491          3206                             MAHI AT SHERKHI BRIDGE  GUJARAT   \n",
       "\n",
       "     TEMP   DO   pH  CONDUCTIVITY   BOD  NITRATE_N_NITRITE_N  FECAL_COLIFORM  \\\n",
       "135   NaN  9.3  7.6           NaN   2.4                  NaN             NaN   \n",
       "136   NaN  1.2  7.5           NaN  17.2                  9.0             NaN   \n",
       "137   NaN  1.4  7.6           NaN  17.3                  9.2             NaN   \n",
       "142   NaN  1.4  7.5           NaN  38.2                  NaN             NaN   \n",
       "491   NaN  4.2  8.7           NaN   0.3                  0.0             NaN   \n",
       "\n",
       "     TOTAL_COLIFORM  \n",
       "135         10003.0  \n",
       "136      12010833.0  \n",
       "137      23816667.0  \n",
       "142      18580000.0  \n",
       "491             NaN  "
      ]
     },
     "execution_count": 8,
     "metadata": {},
     "output_type": "execute_result"
    }
   ],
   "source": [
    "#Printing out the rows where there are empty values\n",
    "df.loc[lambda df: pd.isnull(df['TEMP']), :]"
   ]
  },
  {
   "cell_type": "code",
   "execution_count": 9,
   "metadata": {},
   "outputs": [
    {
     "data": {
      "text/plain": [
       "array(['MAHARASHTRA', 'ANDHRA PRADESH', 'UTTARAKHAND', 'UTTAR PRADESH',\n",
       "       'BIHAR', 'WEST BENGAL', 'ASSAM', 'KARNATAKA', 'HIMACHAL PRADESH',\n",
       "       'DELHI', 'KERALA', 'TAMILNADU', 'MADHYA PRADESH', 'RAJASTHAN',\n",
       "       'PUNJAB', 'GOA', 'CHHATTISGARH', 'GUJARAT'], dtype=object)"
      ]
     },
     "execution_count": 9,
     "metadata": {},
     "output_type": "execute_result"
    }
   ],
   "source": [
    "#Checking how many states are in the data\n",
    "df.STATE.unique()"
   ]
  },
  {
   "cell_type": "code",
   "execution_count": 40,
   "metadata": {
    "gather": {
     "logged": 1628752587017
    }
   },
   "outputs": [],
   "source": [
    "#calculate the Temperature median value of GUJARAT STATE\n",
    "Temp_mv1 = df[df['STATE']=='GUJARAT'][['TEMP']].median()"
   ]
  },
  {
   "cell_type": "code",
   "execution_count": 41,
   "metadata": {
    "gather": {
     "logged": 1628752597757
    }
   },
   "outputs": [],
   "source": [
    "#calculate the DO median value of UTTAR PRADESH STATE\n",
    "DO_mv1 = df[df['STATE']=='UTTAR PRADESH'][['DO']].median()"
   ]
  },
  {
   "cell_type": "code",
   "execution_count": 42,
   "metadata": {
    "gather": {
     "logged": 1628752603742
    }
   },
   "outputs": [],
   "source": [
    "#calculate the EC median value of MADHYA PRADESH, UTTARAKHAND and GUJARAT STATES\n",
    "EC_mv1 = df[df['STATE']=='MADHYA PRADESH'][['CONDUCTIVITY']].median()\n",
    "EC_mv2 = df[df['STATE']=='UTTARAKHAND'][['CONDUCTIVITY']].median()\n",
    "EC_mv4 = df[df['STATE']=='GUJARAT'][['CONDUCTIVITY']].median()"
   ]
  },
  {
   "cell_type": "code",
   "execution_count": 43,
   "metadata": {
    "gather": {
     "logged": 1628752612231
    }
   },
   "outputs": [],
   "source": [
    "#calculate the EC median value of MADHYA PRADESH and ANDHRA PRADESH STATES\n",
    "BOD_mv1 = df[df['STATE']=='ANDHRA PRADESH'][['BOD']].median()\n",
    "BOD_mv2 = df[df['STATE']=='MADHYA PRADESH'][['BOD']].median()"
   ]
  },
  {
   "cell_type": "code",
   "execution_count": 44,
   "metadata": {
    "gather": {
     "logged": 1628752616686
    }
   },
   "outputs": [],
   "source": [
    "#calculate the FECAL COLI median value of ALL STATES with missing values\n",
    "FC_mv1 = df[df['STATE']=='MADHYA PRADESH'][['FECAL_COLIFORM']].median()\n",
    "FC_mv2 = df[df['STATE']=='UTTARAKHAND'][['FECAL_COLIFORM']].median()\n",
    "FC_mv3 = df[df['STATE']=='MAHARASHTRA'][['FECAL_COLIFORM']].median()\n",
    "FC_mv4 = df[df['STATE']=='KARNATAKA'][['FECAL_COLIFORM']].median()\n",
    "FC_mv5 = df[df['STATE']=='ANDHRA PRADESH'][['FECAL_COLIFORM']].median()\n",
    "FC_mv6 = df[df['STATE']=='RAJASTHAN'][['FECAL_COLIFORM']].median()\n",
    "FC_mv7 = df[df['STATE']=='BIHAR'][['FECAL_COLIFORM']].median()\n",
    "FC_mv8 = df[df['STATE']=='GUJARAT'][['FECAL_COLIFORM']].median()"
   ]
  },
  {
   "cell_type": "code",
   "execution_count": 45,
   "metadata": {
    "gather": {
     "logged": 1628752621010
    }
   },
   "outputs": [],
   "source": [
    "#filling Temperature missing values with median of missing values in GUJARAT State\n",
    "df.loc[(df[\"STATE\"] == \"GUJARAT\") & (df[\"TEMP\"].isnull()), 'TEMP'] = float(Temp_mv1)"
   ]
  },
  {
   "cell_type": "code",
   "execution_count": 46,
   "metadata": {
    "gather": {
     "logged": 1628752625867
    }
   },
   "outputs": [],
   "source": [
    "#filling DO missing values with median of missing values in UTTAH PRADESH State\n",
    "df.loc[(df[\"STATE\"] == \"UTTAR PRADESH\") & (df[\"DO\"].isnull()), 'DO'] = float(DO_mv1)"
   ]
  },
  {
   "cell_type": "code",
   "execution_count": 47,
   "metadata": {
    "gather": {
     "logged": 1628752634798
    }
   },
   "outputs": [],
   "source": [
    "#filling EC missing values with EC median values respective States\n",
    "df.loc[(df[\"STATE\"] == \"MADHYA PRADESH\") & (df[\"CONDUCTIVITY\"].isnull()), 'CONDUCTIVITY'] = float(EC_mv1)\n",
    "df.loc[(df[\"STATE\"] == \"UTTARAKHAND\") & (df[\"CONDUCTIVITY\"].isnull()), 'CONDUCTIVITY'] = float(EC_mv2)\n",
    "df.loc[(df[\"STATE\"] == \"GUJARAT\") & (df[\"CONDUCTIVITY\"].isnull()), 'CONDUCTIVITY'] = float(EC_mv4)"
   ]
  },
  {
   "cell_type": "code",
   "execution_count": 48,
   "metadata": {
    "gather": {
     "logged": 1628752639471
    }
   },
   "outputs": [],
   "source": [
    "#filling BOD missing values with BOD median values of respective States\n",
    "df.loc[(df[\"STATE\"] == \"ANDHRA PRADESH\") & (df[\"BOD\"].isnull()), 'BOD'] = float(BOD_mv1)\n",
    "df.loc[(df[\"STATE\"] == \"MADHYA PRADESH\") & (df[\"BOD\"].isnull()), 'BOD'] = float(BOD_mv2)"
   ]
  },
  {
   "cell_type": "code",
   "execution_count": 49,
   "metadata": {
    "gather": {
     "logged": 1628752642717
    }
   },
   "outputs": [],
   "source": [
    "#filling Fecal_coli missing values with FC median values of respective States\n",
    "df.loc[(df[\"STATE\"] == \"MADHYA PRADESH\") & (df[\"FECAL_COLIFORM\"].isnull()), 'FECAL_COLIFORM'] = float(FC_mv1)\n",
    "df.loc[(df[\"STATE\"] == \"UTTARAKHAND\") & (df[\"FECAL_COLIFORM\"].isnull()), 'FECAL_COLIFORM'] = float(FC_mv2)\n",
    "df.loc[(df[\"STATE\"] == \"MAHARASHTRA\") & (df[\"FECAL_COLIFORM\"].isnull()), 'FECAL_COLIFORM'] = float(FC_mv3)\n",
    "df.loc[(df[\"STATE\"] == \"KARNATAKA\") & (df[\"FECAL_COLIFORM\"].isnull()), 'FECAL_COLIFORM'] = float(FC_mv4)\n",
    "df.loc[(df[\"STATE\"] == \"ANDHRA PRADESH\") & (df[\"FECAL_COLIFORM\"].isnull()), 'FECAL_COLIFORM'] = float(FC_mv5)\n",
    "df.loc[(df[\"STATE\"] == \"RAJASTHAN\") & (df[\"FECAL_COLIFORM\"].isnull()), 'FECAL_COLIFORM'] = float(FC_mv6)\n",
    "df.loc[(df[\"STATE\"] == \"BIHAR\") & (df[\"FECAL_COLIFORM\"].isnull()), 'FECAL_COLIFORM'] = float(FC_mv7)\n",
    "df.loc[(df[\"STATE\"] == \"GUJARAT\") & (df[\"FECAL_COLIFORM\"].isnull()), 'FECAL_COLIFORM'] = float(FC_mv8)"
   ]
  },
  {
   "cell_type": "code",
   "execution_count": 50,
   "metadata": {},
   "outputs": [
    {
     "data": {
      "text/plain": [
       "STATION CODE            0\n",
       "LOCATIONS               0\n",
       "STATE                   0\n",
       "TEMP                    4\n",
       "DO                      0\n",
       "pH                      0\n",
       "CONDUCTIVITY            8\n",
       "BOD                     0\n",
       "NITRATE_N_NITRITE_N     2\n",
       "FECAL_COLIFORM          8\n",
       "TOTAL_COLIFORM         39\n",
       "dtype: int64"
      ]
     },
     "execution_count": 50,
     "metadata": {},
     "output_type": "execute_result"
    }
   ],
   "source": [
    "df.isnull().sum()"
   ]
  },
  {
   "cell_type": "markdown",
   "metadata": {},
   "source": [
    "TOTAL_COLIFORM column is dropped because it will not be used in the calculation of water quality index."
   ]
  },
  {
   "cell_type": "code",
   "execution_count": 51,
   "metadata": {
    "gather": {
     "logged": 1628752652908
    }
   },
   "outputs": [],
   "source": [
    "df=df.drop('TOTAL_COLIFORM', axis = 1)"
   ]
  },
  {
   "cell_type": "markdown",
   "metadata": {},
   "source": [
    "DELHI and CHHATTISGARH States were dropped because they were totally missing in the TEMP, CONDITIONAL, NITRATES and FECAL_COLIFORM water quality parameters"
   ]
  },
  {
   "cell_type": "code",
   "execution_count": 52,
   "metadata": {},
   "outputs": [],
   "source": [
    "df=df.loc[(df[\"STATE\"] != 'DELHI') & (df[\"STATE\"] != 'CHHATTISGARH')]"
   ]
  },
  {
   "cell_type": "markdown",
   "metadata": {},
   "source": [
    "STATION CODE, LOCATIONS and STATE columns is dropped because they will not used in the calculation of water quality index."
   ]
  },
  {
   "cell_type": "code",
   "execution_count": 53,
   "metadata": {
    "gather": {
     "logged": 1628752674227
    }
   },
   "outputs": [
    {
     "data": {
      "text/html": [
       "<div>\n",
       "<style scoped>\n",
       "    .dataframe tbody tr th:only-of-type {\n",
       "        vertical-align: middle;\n",
       "    }\n",
       "\n",
       "    .dataframe tbody tr th {\n",
       "        vertical-align: top;\n",
       "    }\n",
       "\n",
       "    .dataframe thead th {\n",
       "        text-align: right;\n",
       "    }\n",
       "</style>\n",
       "<table border=\"1\" class=\"dataframe\">\n",
       "  <thead>\n",
       "    <tr style=\"text-align: right;\">\n",
       "      <th></th>\n",
       "      <th>TEMP</th>\n",
       "      <th>DO</th>\n",
       "      <th>pH</th>\n",
       "      <th>CONDUCTIVITY</th>\n",
       "      <th>BOD</th>\n",
       "      <th>NITRATE_N_NITRITE_N</th>\n",
       "      <th>FECAL_COLIFORM</th>\n",
       "    </tr>\n",
       "  </thead>\n",
       "  <tbody>\n",
       "    <tr>\n",
       "      <th>0</th>\n",
       "      <td>29.2</td>\n",
       "      <td>6.4</td>\n",
       "      <td>8.1</td>\n",
       "      <td>735.0</td>\n",
       "      <td>3.4</td>\n",
       "      <td>2.00</td>\n",
       "      <td>3.0</td>\n",
       "    </tr>\n",
       "    <tr>\n",
       "      <th>1</th>\n",
       "      <td>24.5</td>\n",
       "      <td>6.0</td>\n",
       "      <td>8.0</td>\n",
       "      <td>270.0</td>\n",
       "      <td>3.1</td>\n",
       "      <td>2.00</td>\n",
       "      <td>72.0</td>\n",
       "    </tr>\n",
       "    <tr>\n",
       "      <th>2</th>\n",
       "      <td>25.8</td>\n",
       "      <td>5.5</td>\n",
       "      <td>7.8</td>\n",
       "      <td>355.0</td>\n",
       "      <td>4.2</td>\n",
       "      <td>9.00</td>\n",
       "      <td>59.0</td>\n",
       "    </tr>\n",
       "    <tr>\n",
       "      <th>3</th>\n",
       "      <td>24.8</td>\n",
       "      <td>5.5</td>\n",
       "      <td>7.8</td>\n",
       "      <td>371.0</td>\n",
       "      <td>5.6</td>\n",
       "      <td>3.55</td>\n",
       "      <td>90.0</td>\n",
       "    </tr>\n",
       "    <tr>\n",
       "      <th>4</th>\n",
       "      <td>25.7</td>\n",
       "      <td>5.7</td>\n",
       "      <td>7.9</td>\n",
       "      <td>294.0</td>\n",
       "      <td>3.2</td>\n",
       "      <td>2.69</td>\n",
       "      <td>45.0</td>\n",
       "    </tr>\n",
       "    <tr>\n",
       "      <th>...</th>\n",
       "      <td>...</td>\n",
       "      <td>...</td>\n",
       "      <td>...</td>\n",
       "      <td>...</td>\n",
       "      <td>...</td>\n",
       "      <td>...</td>\n",
       "      <td>...</td>\n",
       "    </tr>\n",
       "    <tr>\n",
       "      <th>529</th>\n",
       "      <td>23.2</td>\n",
       "      <td>4.4</td>\n",
       "      <td>8.1</td>\n",
       "      <td>538.0</td>\n",
       "      <td>1.2</td>\n",
       "      <td>1.00</td>\n",
       "      <td>5.0</td>\n",
       "    </tr>\n",
       "    <tr>\n",
       "      <th>530</th>\n",
       "      <td>22.9</td>\n",
       "      <td>5.6</td>\n",
       "      <td>8.4</td>\n",
       "      <td>591.0</td>\n",
       "      <td>1.1</td>\n",
       "      <td>3.00</td>\n",
       "      <td>4.0</td>\n",
       "    </tr>\n",
       "    <tr>\n",
       "      <th>531</th>\n",
       "      <td>22.9</td>\n",
       "      <td>5.8</td>\n",
       "      <td>8.5</td>\n",
       "      <td>588.0</td>\n",
       "      <td>1.2</td>\n",
       "      <td>3.00</td>\n",
       "      <td>4.0</td>\n",
       "    </tr>\n",
       "    <tr>\n",
       "      <th>532</th>\n",
       "      <td>28.7</td>\n",
       "      <td>4.1</td>\n",
       "      <td>7.9</td>\n",
       "      <td>1133.0</td>\n",
       "      <td>2.3</td>\n",
       "      <td>2.00</td>\n",
       "      <td>7.0</td>\n",
       "    </tr>\n",
       "    <tr>\n",
       "      <th>533</th>\n",
       "      <td>24.3</td>\n",
       "      <td>3.5</td>\n",
       "      <td>8.9</td>\n",
       "      <td>2004.0</td>\n",
       "      <td>6.5</td>\n",
       "      <td>1.00</td>\n",
       "      <td>13.0</td>\n",
       "    </tr>\n",
       "  </tbody>\n",
       "</table>\n",
       "<p>526 rows × 7 columns</p>\n",
       "</div>"
      ],
      "text/plain": [
       "     TEMP   DO   pH  CONDUCTIVITY  BOD  NITRATE_N_NITRITE_N  FECAL_COLIFORM\n",
       "0    29.2  6.4  8.1         735.0  3.4                 2.00             3.0\n",
       "1    24.5  6.0  8.0         270.0  3.1                 2.00            72.0\n",
       "2    25.8  5.5  7.8         355.0  4.2                 9.00            59.0\n",
       "3    24.8  5.5  7.8         371.0  5.6                 3.55            90.0\n",
       "4    25.7  5.7  7.9         294.0  3.2                 2.69            45.0\n",
       "..    ...  ...  ...           ...  ...                  ...             ...\n",
       "529  23.2  4.4  8.1         538.0  1.2                 1.00             5.0\n",
       "530  22.9  5.6  8.4         591.0  1.1                 3.00             4.0\n",
       "531  22.9  5.8  8.5         588.0  1.2                 3.00             4.0\n",
       "532  28.7  4.1  7.9        1133.0  2.3                 2.00             7.0\n",
       "533  24.3  3.5  8.9        2004.0  6.5                 1.00            13.0\n",
       "\n",
       "[526 rows x 7 columns]"
      ]
     },
     "execution_count": 53,
     "metadata": {},
     "output_type": "execute_result"
    }
   ],
   "source": [
    "df=df.drop('STATION CODE', axis = 1)\n",
    "df=df.drop('LOCATIONS', axis = 1)\n",
    "df=df.drop('STATE', axis = 1)\n",
    "df"
   ]
  },
  {
   "cell_type": "code",
   "execution_count": 54,
   "metadata": {},
   "outputs": [
    {
     "data": {
      "text/plain": [
       "TEMP                   0\n",
       "DO                     0\n",
       "pH                     0\n",
       "CONDUCTIVITY           0\n",
       "BOD                    0\n",
       "NITRATE_N_NITRITE_N    0\n",
       "FECAL_COLIFORM         0\n",
       "dtype: int64"
      ]
     },
     "execution_count": 54,
     "metadata": {},
     "output_type": "execute_result"
    }
   ],
   "source": [
    "#After dropping unwanted rows and columns, there are no missing values\n",
    "df.isnull().sum()"
   ]
  },
  {
   "cell_type": "code",
   "execution_count": 55,
   "metadata": {},
   "outputs": [
    {
     "data": {
      "image/png": "[encoded data removed]",
      "text/plain": [
       "<Figure size 1440x720 with 2 Axes>"
      ]
     },
     "metadata": {
      "needs_background": "light"
     },
     "output_type": "display_data"
    }
   ],
   "source": [
    "#plotting the heatmap for correlation\n",
    "plt.figure(figsize=(20,10))\n",
    "ax = sns.heatmap(df.corr(), annot=True)\n",
    "plt.show()"
   ]
  },
  {
   "cell_type": "markdown",
   "metadata": {},
   "source": [
    "## 6. Feature Engineering <a class=\"anchor\" id=\"FeatureEng\" ></a>"
   ]
  },
  {
   "cell_type": "markdown",
   "metadata": {},
   "source": [
    "To train a model we need what we have to predict which is not in data. So we have to calculate water quality index which will be used to generate the water quality of the data"
   ]
  },
  {
   "cell_type": "code",
   "execution_count": 25,
   "metadata": {
    "gather": {
     "logged": 1628752703702
    }
   },
   "outputs": [
    {
     "data": {
      "text/html": [
       "<div>\n",
       "<style scoped>\n",
       "    .dataframe tbody tr th:only-of-type {\n",
       "        vertical-align: middle;\n",
       "    }\n",
       "\n",
       "    .dataframe tbody tr th {\n",
       "        vertical-align: top;\n",
       "    }\n",
       "\n",
       "    .dataframe thead th {\n",
       "        text-align: right;\n",
       "    }\n",
       "</style>\n",
       "<table border=\"1\" class=\"dataframe\">\n",
       "  <thead>\n",
       "    <tr style=\"text-align: right;\">\n",
       "      <th></th>\n",
       "      <th>TEMP</th>\n",
       "      <th>DO</th>\n",
       "      <th>pH</th>\n",
       "      <th>CONDUCTIVITY</th>\n",
       "      <th>BOD</th>\n",
       "      <th>NITRATE_N_NITRITE_N</th>\n",
       "      <th>FECAL_COLIFORM</th>\n",
       "    </tr>\n",
       "  </thead>\n",
       "  <tbody>\n",
       "    <tr>\n",
       "      <th>0</th>\n",
       "      <td>29.2</td>\n",
       "      <td>6.4</td>\n",
       "      <td>8.1</td>\n",
       "      <td>735.0</td>\n",
       "      <td>3.4</td>\n",
       "      <td>2.00</td>\n",
       "      <td>3.0</td>\n",
       "    </tr>\n",
       "    <tr>\n",
       "      <th>1</th>\n",
       "      <td>24.5</td>\n",
       "      <td>6.0</td>\n",
       "      <td>8.0</td>\n",
       "      <td>270.0</td>\n",
       "      <td>3.1</td>\n",
       "      <td>2.00</td>\n",
       "      <td>72.0</td>\n",
       "    </tr>\n",
       "    <tr>\n",
       "      <th>2</th>\n",
       "      <td>25.8</td>\n",
       "      <td>5.5</td>\n",
       "      <td>7.8</td>\n",
       "      <td>355.0</td>\n",
       "      <td>4.2</td>\n",
       "      <td>9.00</td>\n",
       "      <td>59.0</td>\n",
       "    </tr>\n",
       "    <tr>\n",
       "      <th>3</th>\n",
       "      <td>24.8</td>\n",
       "      <td>5.5</td>\n",
       "      <td>7.8</td>\n",
       "      <td>371.0</td>\n",
       "      <td>5.6</td>\n",
       "      <td>3.55</td>\n",
       "      <td>90.0</td>\n",
       "    </tr>\n",
       "    <tr>\n",
       "      <th>4</th>\n",
       "      <td>25.7</td>\n",
       "      <td>5.7</td>\n",
       "      <td>7.9</td>\n",
       "      <td>294.0</td>\n",
       "      <td>3.2</td>\n",
       "      <td>2.69</td>\n",
       "      <td>45.0</td>\n",
       "    </tr>\n",
       "  </tbody>\n",
       "</table>\n",
       "</div>"
      ],
      "text/plain": [
       "   TEMP   DO   pH  CONDUCTIVITY  BOD  NITRATE_N_NITRITE_N  FECAL_COLIFORM\n",
       "0  29.2  6.4  8.1         735.0  3.4                 2.00             3.0\n",
       "1  24.5  6.0  8.0         270.0  3.1                 2.00            72.0\n",
       "2  25.8  5.5  7.8         355.0  4.2                 9.00            59.0\n",
       "3  24.8  5.5  7.8         371.0  5.6                 3.55            90.0\n",
       "4  25.7  5.7  7.9         294.0  3.2                 2.69            45.0"
      ]
     },
     "execution_count": 25,
     "metadata": {},
     "output_type": "execute_result"
    }
   ],
   "source": [
    "df.head()"
   ]
  },
  {
   "cell_type": "markdown",
   "metadata": {},
   "source": [
    "To calculate for Water Quality Index using Brown et al WQI formula, one needs the water quality index of individual parameters. Summation of the individual parameters gives the total WQI.\n",
    "Therefore for all parameters except PH and DO, the formula is:\n",
    "(parameter_data_recorded / parameter_standard_value) x 100 x parameter_weight\n",
    "For PH the formula is:\n",
    "(abs(pH_data_recorded - 7)/1.5) x pH_weight\n",
    "For DO the formula is:\n",
    "(abs((DO_data_recorded - 14)/-8) x DO_weight\n",
    "NOTE: Weights and standard used according to WHO/BIS/ICMR standards"
   ]
  },
  {
   "cell_type": "code",
   "execution_count": 26,
   "metadata": {
    "gather": {
     "logged": 1628752716967
    },
    "scrolled": true
   },
   "outputs": [
    {
     "data": {
      "text/html": [
       "<div>\n",
       "<style scoped>\n",
       "    .dataframe tbody tr th:only-of-type {\n",
       "        vertical-align: middle;\n",
       "    }\n",
       "\n",
       "    .dataframe tbody tr th {\n",
       "        vertical-align: top;\n",
       "    }\n",
       "\n",
       "    .dataframe thead th {\n",
       "        text-align: right;\n",
       "    }\n",
       "</style>\n",
       "<table border=\"1\" class=\"dataframe\">\n",
       "  <thead>\n",
       "    <tr style=\"text-align: right;\">\n",
       "      <th></th>\n",
       "      <th>TEMP</th>\n",
       "      <th>DO</th>\n",
       "      <th>pH</th>\n",
       "      <th>CONDUCTIVITY</th>\n",
       "      <th>BOD</th>\n",
       "      <th>NITRATE_N_NITRITE_N</th>\n",
       "      <th>FECAL_COLIFORM</th>\n",
       "      <th>DO_WI</th>\n",
       "      <th>PH_WI</th>\n",
       "      <th>FC_WI</th>\n",
       "      <th>NITRATE_WI</th>\n",
       "      <th>BOD_WI</th>\n",
       "      <th>EC_WI</th>\n",
       "      <th>Temp_WI</th>\n",
       "    </tr>\n",
       "  </thead>\n",
       "  <tbody>\n",
       "    <tr>\n",
       "      <th>0</th>\n",
       "      <td>29.2</td>\n",
       "      <td>6.4</td>\n",
       "      <td>8.1</td>\n",
       "      <td>735.0</td>\n",
       "      <td>3.4</td>\n",
       "      <td>2.00</td>\n",
       "      <td>3.0</td>\n",
       "      <td>0.256500</td>\n",
       "      <td>0.139333</td>\n",
       "      <td>4.8</td>\n",
       "      <td>0.177778</td>\n",
       "      <td>15.30</td>\n",
       "      <td>2.450000</td>\n",
       "      <td>4.866667</td>\n",
       "    </tr>\n",
       "    <tr>\n",
       "      <th>1</th>\n",
       "      <td>24.5</td>\n",
       "      <td>6.0</td>\n",
       "      <td>8.0</td>\n",
       "      <td>270.0</td>\n",
       "      <td>3.1</td>\n",
       "      <td>2.00</td>\n",
       "      <td>72.0</td>\n",
       "      <td>0.270000</td>\n",
       "      <td>0.126667</td>\n",
       "      <td>115.2</td>\n",
       "      <td>0.177778</td>\n",
       "      <td>13.95</td>\n",
       "      <td>0.900000</td>\n",
       "      <td>4.083333</td>\n",
       "    </tr>\n",
       "    <tr>\n",
       "      <th>2</th>\n",
       "      <td>25.8</td>\n",
       "      <td>5.5</td>\n",
       "      <td>7.8</td>\n",
       "      <td>355.0</td>\n",
       "      <td>4.2</td>\n",
       "      <td>9.00</td>\n",
       "      <td>59.0</td>\n",
       "      <td>0.286875</td>\n",
       "      <td>0.101333</td>\n",
       "      <td>94.4</td>\n",
       "      <td>0.800000</td>\n",
       "      <td>18.90</td>\n",
       "      <td>1.183333</td>\n",
       "      <td>4.300000</td>\n",
       "    </tr>\n",
       "    <tr>\n",
       "      <th>3</th>\n",
       "      <td>24.8</td>\n",
       "      <td>5.5</td>\n",
       "      <td>7.8</td>\n",
       "      <td>371.0</td>\n",
       "      <td>5.6</td>\n",
       "      <td>3.55</td>\n",
       "      <td>90.0</td>\n",
       "      <td>0.286875</td>\n",
       "      <td>0.101333</td>\n",
       "      <td>144.0</td>\n",
       "      <td>0.315556</td>\n",
       "      <td>25.20</td>\n",
       "      <td>1.236667</td>\n",
       "      <td>4.133333</td>\n",
       "    </tr>\n",
       "    <tr>\n",
       "      <th>4</th>\n",
       "      <td>25.7</td>\n",
       "      <td>5.7</td>\n",
       "      <td>7.9</td>\n",
       "      <td>294.0</td>\n",
       "      <td>3.2</td>\n",
       "      <td>2.69</td>\n",
       "      <td>45.0</td>\n",
       "      <td>0.280125</td>\n",
       "      <td>0.114000</td>\n",
       "      <td>72.0</td>\n",
       "      <td>0.239111</td>\n",
       "      <td>14.40</td>\n",
       "      <td>0.980000</td>\n",
       "      <td>4.283333</td>\n",
       "    </tr>\n",
       "  </tbody>\n",
       "</table>\n",
       "</div>"
      ],
      "text/plain": [
       "   TEMP   DO   pH  CONDUCTIVITY  BOD  NITRATE_N_NITRITE_N  FECAL_COLIFORM  \\\n",
       "0  29.2  6.4  8.1         735.0  3.4                 2.00             3.0   \n",
       "1  24.5  6.0  8.0         270.0  3.1                 2.00            72.0   \n",
       "2  25.8  5.5  7.8         355.0  4.2                 9.00            59.0   \n",
       "3  24.8  5.5  7.8         371.0  5.6                 3.55            90.0   \n",
       "4  25.7  5.7  7.9         294.0  3.2                 2.69            45.0   \n",
       "\n",
       "      DO_WI     PH_WI  FC_WI  NITRATE_WI  BOD_WI     EC_WI   Temp_WI  \n",
       "0  0.256500  0.139333    4.8    0.177778   15.30  2.450000  4.866667  \n",
       "1  0.270000  0.126667  115.2    0.177778   13.95  0.900000  4.083333  \n",
       "2  0.286875  0.101333   94.4    0.800000   18.90  1.183333  4.300000  \n",
       "3  0.286875  0.101333  144.0    0.315556   25.20  1.236667  4.133333  \n",
       "4  0.280125  0.114000   72.0    0.239111   14.40  0.980000  4.283333  "
      ]
     },
     "execution_count": 26,
     "metadata": {},
     "output_type": "execute_result"
    }
   ],
   "source": [
    "#calculating individual water quality index\n",
    "df.insert(7,\"Temp_WI\", 0.05 * 100 * (df['TEMP']/30), True)\n",
    "df.insert(7,\"EC_WI\", 0.01 * 100 * (df['CONDUCTIVITY']/300), True)\n",
    "df.insert(7,\"BOD_WI\", 0.27 * 100 * (df['BOD']/6), True)\n",
    "df.insert(7,\"NITRATE_WI\", 0.04 * 100 * (df['NITRATE_N_NITRITE_N']/45), True)\n",
    "df.insert(7,\"FC_WI\", 0.16 * 100 * (df['FECAL_COLIFORM']/10), True)\n",
    "df.insert(7,\"PH_WI\",(abs(df['pH'] - 7)/1.5)* 0.19, True)\n",
    "df.insert(7,\"DO_WI\",(abs(df['DO'] - 14)/8)* 0.27, True)\n",
    "df.head()"
   ]
  },
  {
   "cell_type": "code",
   "execution_count": 27,
   "metadata": {
    "gather": {
     "logged": 1628752728157
    }
   },
   "outputs": [],
   "source": [
    "#Sum of the water quality index for individual parameters\n",
    "df['WQI'] = df['DO_WI'] + df['PH_WI'] + df['FC_WI'] + df['NITRATE_WI'] + df['BOD_WI'] + df['EC_WI'] + df['Temp_WI']"
   ]
  },
  {
   "cell_type": "code",
   "execution_count": 28,
   "metadata": {
    "gather": {
     "logged": 1628752736876
    }
   },
   "outputs": [
    {
     "data": {
      "text/html": [
       "<div>\n",
       "<style scoped>\n",
       "    .dataframe tbody tr th:only-of-type {\n",
       "        vertical-align: middle;\n",
       "    }\n",
       "\n",
       "    .dataframe tbody tr th {\n",
       "        vertical-align: top;\n",
       "    }\n",
       "\n",
       "    .dataframe thead th {\n",
       "        text-align: right;\n",
       "    }\n",
       "</style>\n",
       "<table border=\"1\" class=\"dataframe\">\n",
       "  <thead>\n",
       "    <tr style=\"text-align: right;\">\n",
       "      <th></th>\n",
       "      <th>TEMP</th>\n",
       "      <th>DO</th>\n",
       "      <th>pH</th>\n",
       "      <th>CONDUCTIVITY</th>\n",
       "      <th>BOD</th>\n",
       "      <th>NITRATE_N_NITRITE_N</th>\n",
       "      <th>FECAL_COLIFORM</th>\n",
       "      <th>DO_WI</th>\n",
       "      <th>PH_WI</th>\n",
       "      <th>FC_WI</th>\n",
       "      <th>NITRATE_WI</th>\n",
       "      <th>BOD_WI</th>\n",
       "      <th>EC_WI</th>\n",
       "      <th>Temp_WI</th>\n",
       "      <th>WQI</th>\n",
       "    </tr>\n",
       "  </thead>\n",
       "  <tbody>\n",
       "    <tr>\n",
       "      <th>0</th>\n",
       "      <td>29.2</td>\n",
       "      <td>6.4</td>\n",
       "      <td>8.1</td>\n",
       "      <td>735.0</td>\n",
       "      <td>3.4</td>\n",
       "      <td>2.00</td>\n",
       "      <td>3.0</td>\n",
       "      <td>0.256500</td>\n",
       "      <td>0.139333</td>\n",
       "      <td>4.8</td>\n",
       "      <td>0.177778</td>\n",
       "      <td>15.30</td>\n",
       "      <td>2.450000</td>\n",
       "      <td>4.866667</td>\n",
       "      <td>27.990278</td>\n",
       "    </tr>\n",
       "    <tr>\n",
       "      <th>1</th>\n",
       "      <td>24.5</td>\n",
       "      <td>6.0</td>\n",
       "      <td>8.0</td>\n",
       "      <td>270.0</td>\n",
       "      <td>3.1</td>\n",
       "      <td>2.00</td>\n",
       "      <td>72.0</td>\n",
       "      <td>0.270000</td>\n",
       "      <td>0.126667</td>\n",
       "      <td>115.2</td>\n",
       "      <td>0.177778</td>\n",
       "      <td>13.95</td>\n",
       "      <td>0.900000</td>\n",
       "      <td>4.083333</td>\n",
       "      <td>134.707778</td>\n",
       "    </tr>\n",
       "    <tr>\n",
       "      <th>2</th>\n",
       "      <td>25.8</td>\n",
       "      <td>5.5</td>\n",
       "      <td>7.8</td>\n",
       "      <td>355.0</td>\n",
       "      <td>4.2</td>\n",
       "      <td>9.00</td>\n",
       "      <td>59.0</td>\n",
       "      <td>0.286875</td>\n",
       "      <td>0.101333</td>\n",
       "      <td>94.4</td>\n",
       "      <td>0.800000</td>\n",
       "      <td>18.90</td>\n",
       "      <td>1.183333</td>\n",
       "      <td>4.300000</td>\n",
       "      <td>119.971542</td>\n",
       "    </tr>\n",
       "    <tr>\n",
       "      <th>3</th>\n",
       "      <td>24.8</td>\n",
       "      <td>5.5</td>\n",
       "      <td>7.8</td>\n",
       "      <td>371.0</td>\n",
       "      <td>5.6</td>\n",
       "      <td>3.55</td>\n",
       "      <td>90.0</td>\n",
       "      <td>0.286875</td>\n",
       "      <td>0.101333</td>\n",
       "      <td>144.0</td>\n",
       "      <td>0.315556</td>\n",
       "      <td>25.20</td>\n",
       "      <td>1.236667</td>\n",
       "      <td>4.133333</td>\n",
       "      <td>175.273764</td>\n",
       "    </tr>\n",
       "    <tr>\n",
       "      <th>4</th>\n",
       "      <td>25.7</td>\n",
       "      <td>5.7</td>\n",
       "      <td>7.9</td>\n",
       "      <td>294.0</td>\n",
       "      <td>3.2</td>\n",
       "      <td>2.69</td>\n",
       "      <td>45.0</td>\n",
       "      <td>0.280125</td>\n",
       "      <td>0.114000</td>\n",
       "      <td>72.0</td>\n",
       "      <td>0.239111</td>\n",
       "      <td>14.40</td>\n",
       "      <td>0.980000</td>\n",
       "      <td>4.283333</td>\n",
       "      <td>92.296569</td>\n",
       "    </tr>\n",
       "  </tbody>\n",
       "</table>\n",
       "</div>"
      ],
      "text/plain": [
       "   TEMP   DO   pH  CONDUCTIVITY  BOD  NITRATE_N_NITRITE_N  FECAL_COLIFORM  \\\n",
       "0  29.2  6.4  8.1         735.0  3.4                 2.00             3.0   \n",
       "1  24.5  6.0  8.0         270.0  3.1                 2.00            72.0   \n",
       "2  25.8  5.5  7.8         355.0  4.2                 9.00            59.0   \n",
       "3  24.8  5.5  7.8         371.0  5.6                 3.55            90.0   \n",
       "4  25.7  5.7  7.9         294.0  3.2                 2.69            45.0   \n",
       "\n",
       "      DO_WI     PH_WI  FC_WI  NITRATE_WI  BOD_WI     EC_WI   Temp_WI  \\\n",
       "0  0.256500  0.139333    4.8    0.177778   15.30  2.450000  4.866667   \n",
       "1  0.270000  0.126667  115.2    0.177778   13.95  0.900000  4.083333   \n",
       "2  0.286875  0.101333   94.4    0.800000   18.90  1.183333  4.300000   \n",
       "3  0.286875  0.101333  144.0    0.315556   25.20  1.236667  4.133333   \n",
       "4  0.280125  0.114000   72.0    0.239111   14.40  0.980000  4.283333   \n",
       "\n",
       "          WQI  \n",
       "0   27.990278  \n",
       "1  134.707778  \n",
       "2  119.971542  \n",
       "3  175.273764  \n",
       "4   92.296569  "
      ]
     },
     "execution_count": 28,
     "metadata": {},
     "output_type": "execute_result"
    }
   ],
   "source": [
    "df.head()"
   ]
  },
  {
   "cell_type": "code",
   "execution_count": 29,
   "metadata": {
    "gather": {
     "logged": 1628752755925
    }
   },
   "outputs": [
    {
     "data": {
      "text/html": [
       "<div>\n",
       "<style scoped>\n",
       "    .dataframe tbody tr th:only-of-type {\n",
       "        vertical-align: middle;\n",
       "    }\n",
       "\n",
       "    .dataframe tbody tr th {\n",
       "        vertical-align: top;\n",
       "    }\n",
       "\n",
       "    .dataframe thead th {\n",
       "        text-align: right;\n",
       "    }\n",
       "</style>\n",
       "<table border=\"1\" class=\"dataframe\">\n",
       "  <thead>\n",
       "    <tr style=\"text-align: right;\">\n",
       "      <th></th>\n",
       "      <th>TEMP</th>\n",
       "      <th>DO</th>\n",
       "      <th>pH</th>\n",
       "      <th>CONDUCTIVITY</th>\n",
       "      <th>BOD</th>\n",
       "      <th>NITRATE_N_NITRITE_N</th>\n",
       "      <th>FECAL_COLIFORM</th>\n",
       "      <th>WQI</th>\n",
       "    </tr>\n",
       "  </thead>\n",
       "  <tbody>\n",
       "    <tr>\n",
       "      <th>0</th>\n",
       "      <td>29.2</td>\n",
       "      <td>6.4</td>\n",
       "      <td>8.1</td>\n",
       "      <td>735.0</td>\n",
       "      <td>3.4</td>\n",
       "      <td>2.00</td>\n",
       "      <td>3.0</td>\n",
       "      <td>27.990278</td>\n",
       "    </tr>\n",
       "    <tr>\n",
       "      <th>1</th>\n",
       "      <td>24.5</td>\n",
       "      <td>6.0</td>\n",
       "      <td>8.0</td>\n",
       "      <td>270.0</td>\n",
       "      <td>3.1</td>\n",
       "      <td>2.00</td>\n",
       "      <td>72.0</td>\n",
       "      <td>134.707778</td>\n",
       "    </tr>\n",
       "    <tr>\n",
       "      <th>2</th>\n",
       "      <td>25.8</td>\n",
       "      <td>5.5</td>\n",
       "      <td>7.8</td>\n",
       "      <td>355.0</td>\n",
       "      <td>4.2</td>\n",
       "      <td>9.00</td>\n",
       "      <td>59.0</td>\n",
       "      <td>119.971542</td>\n",
       "    </tr>\n",
       "    <tr>\n",
       "      <th>3</th>\n",
       "      <td>24.8</td>\n",
       "      <td>5.5</td>\n",
       "      <td>7.8</td>\n",
       "      <td>371.0</td>\n",
       "      <td>5.6</td>\n",
       "      <td>3.55</td>\n",
       "      <td>90.0</td>\n",
       "      <td>175.273764</td>\n",
       "    </tr>\n",
       "    <tr>\n",
       "      <th>4</th>\n",
       "      <td>25.7</td>\n",
       "      <td>5.7</td>\n",
       "      <td>7.9</td>\n",
       "      <td>294.0</td>\n",
       "      <td>3.2</td>\n",
       "      <td>2.69</td>\n",
       "      <td>45.0</td>\n",
       "      <td>92.296569</td>\n",
       "    </tr>\n",
       "    <tr>\n",
       "      <th>...</th>\n",
       "      <td>...</td>\n",
       "      <td>...</td>\n",
       "      <td>...</td>\n",
       "      <td>...</td>\n",
       "      <td>...</td>\n",
       "      <td>...</td>\n",
       "      <td>...</td>\n",
       "      <td>...</td>\n",
       "    </tr>\n",
       "    <tr>\n",
       "      <th>529</th>\n",
       "      <td>23.2</td>\n",
       "      <td>4.4</td>\n",
       "      <td>8.1</td>\n",
       "      <td>538.0</td>\n",
       "      <td>1.2</td>\n",
       "      <td>1.00</td>\n",
       "      <td>5.0</td>\n",
       "      <td>19.612222</td>\n",
       "    </tr>\n",
       "    <tr>\n",
       "      <th>530</th>\n",
       "      <td>22.9</td>\n",
       "      <td>5.6</td>\n",
       "      <td>8.4</td>\n",
       "      <td>591.0</td>\n",
       "      <td>1.1</td>\n",
       "      <td>3.00</td>\n",
       "      <td>4.0</td>\n",
       "      <td>17.864167</td>\n",
       "    </tr>\n",
       "    <tr>\n",
       "      <th>531</th>\n",
       "      <td>22.9</td>\n",
       "      <td>5.8</td>\n",
       "      <td>8.5</td>\n",
       "      <td>588.0</td>\n",
       "      <td>1.2</td>\n",
       "      <td>3.00</td>\n",
       "      <td>4.0</td>\n",
       "      <td>18.310083</td>\n",
       "    </tr>\n",
       "    <tr>\n",
       "      <th>532</th>\n",
       "      <td>28.7</td>\n",
       "      <td>4.1</td>\n",
       "      <td>7.9</td>\n",
       "      <td>1133.0</td>\n",
       "      <td>2.3</td>\n",
       "      <td>2.00</td>\n",
       "      <td>7.0</td>\n",
       "      <td>30.735903</td>\n",
       "    </tr>\n",
       "    <tr>\n",
       "      <th>533</th>\n",
       "      <td>24.3</td>\n",
       "      <td>3.5</td>\n",
       "      <td>8.9</td>\n",
       "      <td>2004.0</td>\n",
       "      <td>6.5</td>\n",
       "      <td>1.00</td>\n",
       "      <td>13.0</td>\n",
       "      <td>61.463931</td>\n",
       "    </tr>\n",
       "  </tbody>\n",
       "</table>\n",
       "<p>526 rows × 8 columns</p>\n",
       "</div>"
      ],
      "text/plain": [
       "     TEMP   DO   pH  CONDUCTIVITY  BOD  NITRATE_N_NITRITE_N  FECAL_COLIFORM  \\\n",
       "0    29.2  6.4  8.1         735.0  3.4                 2.00             3.0   \n",
       "1    24.5  6.0  8.0         270.0  3.1                 2.00            72.0   \n",
       "2    25.8  5.5  7.8         355.0  4.2                 9.00            59.0   \n",
       "3    24.8  5.5  7.8         371.0  5.6                 3.55            90.0   \n",
       "4    25.7  5.7  7.9         294.0  3.2                 2.69            45.0   \n",
       "..    ...  ...  ...           ...  ...                  ...             ...   \n",
       "529  23.2  4.4  8.1         538.0  1.2                 1.00             5.0   \n",
       "530  22.9  5.6  8.4         591.0  1.1                 3.00             4.0   \n",
       "531  22.9  5.8  8.5         588.0  1.2                 3.00             4.0   \n",
       "532  28.7  4.1  7.9        1133.0  2.3                 2.00             7.0   \n",
       "533  24.3  3.5  8.9        2004.0  6.5                 1.00            13.0   \n",
       "\n",
       "            WQI  \n",
       "0     27.990278  \n",
       "1    134.707778  \n",
       "2    119.971542  \n",
       "3    175.273764  \n",
       "4     92.296569  \n",
       "..          ...  \n",
       "529   19.612222  \n",
       "530   17.864167  \n",
       "531   18.310083  \n",
       "532   30.735903  \n",
       "533   61.463931  \n",
       "\n",
       "[526 rows x 8 columns]"
      ]
     },
     "execution_count": 29,
     "metadata": {},
     "output_type": "execute_result"
    }
   ],
   "source": [
    "#setting up data to predict Water Quality Index\n",
    "df_new = df[['TEMP', 'DO', 'pH', 'CONDUCTIVITY', 'BOD', 'NITRATE_N_NITRITE_N', 'FECAL_COLIFORM','WQI']]\n",
    "df_new"
   ]
  },
  {
   "cell_type": "markdown",
   "metadata": {
    "nteract": {
     "transient": {
      "deleting": false
     }
    }
   },
   "source": [
    "## 7. Model Creation <a class=\"anchor\" id=\"ModelC\" ></a>\n",
    "Now we apply machine learning algorithms to predict the data."
   ]
  },
  {
   "cell_type": "code",
   "execution_count": 30,
   "metadata": {
    "gather": {
     "logged": 1628752767409
    }
   },
   "outputs": [],
   "source": [
    "#splitting data. 80% was used in training and 20% used in testing\n",
    "features = df_new.drop('WQI',axis=1)\n",
    "labels = df_new['WQI']\n",
    "X_train, X_test, y_train, y_test = train_test_split(features, labels, test_size=0.2, random_state=0)"
   ]
  },
  {
   "cell_type": "markdown",
   "metadata": {},
   "source": [
    "#Predicting the water quality Index based on Linear Regression.\n",
    "Standard scaler was used to normalise the data"
   ]
  },
  {
   "cell_type": "code",
   "execution_count": 31,
   "metadata": {
    "gather": {
     "logged": 1628752814750
    }
   },
   "outputs": [
    {
     "name": "stdout",
     "output_type": "stream",
     "text": [
      "score is 0.9999999999998566\n",
      "Mean squared error: 0.00\n",
      "Variance score: 1.00\n"
     ]
    },
    {
     "data": {
      "text/plain": [
       "['QualityIndex.pkl']"
      ]
     },
     "execution_count": 31,
     "metadata": {},
     "output_type": "execute_result"
    }
   ],
   "source": [
    "import joblib\n",
    "\n",
    "pipe = Pipeline([('scaler', StandardScaler()), ('LR', LinearRegression())])\n",
    "pipe.fit(X_train, y_train)\n",
    "score = pipe.score(X_test, y_test)\n",
    "print(\"score is \" + str(score))\n",
    "# The mean squared error\n",
    "print(\"Mean squared error: %.2f\" % np.mean((pipe.predict(X_test) - y_test) ** 2))\n",
    "# Explained variance score: 1 is perfect prediction\n",
    "print('Variance score: %.2f' % pipe.score(X_test,y_test))\n",
    "preds = pipe.predict(X_test)\n",
    "joblib.dump(pipe, 'QualityIndex.pkl')"
   ]
  },
  {
   "cell_type": "markdown",
   "metadata": {},
   "source": [
    "## 7.1 Water Quality Prediction <a class=\"anchor\" id=\"Prediction\" ></a>\n",
    "After predicting water quality index, now we classify water on the basis of its WQI and predict its quality."
   ]
  },
  {
   "cell_type": "code",
   "execution_count": 32,
   "metadata": {
    "gather": {
     "logged": 1628752829003
    }
   },
   "outputs": [],
   "source": [
    "#classifying the water on the basis of their water quality index.\n",
    "df['Quality']=df.WQI.apply(lambda x:('Excellent' if (50>=x>=0)  \n",
    "                                 else('Good' if  (100>=x>=51) \n",
    "                                      else('Poor' if (150>=x>=101)\n",
    "                                          else('Very Poor' if (200>=x>=151) \n",
    "                                              else 'Unsuitable')))))"
   ]
  },
  {
   "cell_type": "code",
   "execution_count": 33,
   "metadata": {
    "gather": {
     "logged": 1628752838949
    }
   },
   "outputs": [],
   "source": [
    "#encoding the string Quality which is string to numeric\n",
    "from sklearn import preprocessing\n",
    "le = preprocessing.LabelEncoder()\n",
    "df['Quality_le'] = le.fit_transform(df.Quality.values)"
   ]
  },
  {
   "cell_type": "code",
   "execution_count": 34,
   "metadata": {
    "gather": {
     "logged": 1628752853033
    }
   },
   "outputs": [
    {
     "data": {
      "text/html": [
       "<div>\n",
       "<style scoped>\n",
       "    .dataframe tbody tr th:only-of-type {\n",
       "        vertical-align: middle;\n",
       "    }\n",
       "\n",
       "    .dataframe tbody tr th {\n",
       "        vertical-align: top;\n",
       "    }\n",
       "\n",
       "    .dataframe thead th {\n",
       "        text-align: right;\n",
       "    }\n",
       "</style>\n",
       "<table border=\"1\" class=\"dataframe\">\n",
       "  <thead>\n",
       "    <tr style=\"text-align: right;\">\n",
       "      <th></th>\n",
       "      <th>TEMP</th>\n",
       "      <th>DO</th>\n",
       "      <th>pH</th>\n",
       "      <th>CONDUCTIVITY</th>\n",
       "      <th>BOD</th>\n",
       "      <th>NITRATE_N_NITRITE_N</th>\n",
       "      <th>FECAL_COLIFORM</th>\n",
       "      <th>DO_WI</th>\n",
       "      <th>PH_WI</th>\n",
       "      <th>FC_WI</th>\n",
       "      <th>NITRATE_WI</th>\n",
       "      <th>BOD_WI</th>\n",
       "      <th>EC_WI</th>\n",
       "      <th>Temp_WI</th>\n",
       "      <th>WQI</th>\n",
       "      <th>Quality</th>\n",
       "      <th>Quality_le</th>\n",
       "    </tr>\n",
       "  </thead>\n",
       "  <tbody>\n",
       "    <tr>\n",
       "      <th>0</th>\n",
       "      <td>29.2</td>\n",
       "      <td>6.4</td>\n",
       "      <td>8.1</td>\n",
       "      <td>735.0</td>\n",
       "      <td>3.4</td>\n",
       "      <td>2.00</td>\n",
       "      <td>3.0</td>\n",
       "      <td>0.256500</td>\n",
       "      <td>0.139333</td>\n",
       "      <td>4.8</td>\n",
       "      <td>0.177778</td>\n",
       "      <td>15.30</td>\n",
       "      <td>2.450000</td>\n",
       "      <td>4.866667</td>\n",
       "      <td>27.990278</td>\n",
       "      <td>Excellent</td>\n",
       "      <td>0</td>\n",
       "    </tr>\n",
       "    <tr>\n",
       "      <th>1</th>\n",
       "      <td>24.5</td>\n",
       "      <td>6.0</td>\n",
       "      <td>8.0</td>\n",
       "      <td>270.0</td>\n",
       "      <td>3.1</td>\n",
       "      <td>2.00</td>\n",
       "      <td>72.0</td>\n",
       "      <td>0.270000</td>\n",
       "      <td>0.126667</td>\n",
       "      <td>115.2</td>\n",
       "      <td>0.177778</td>\n",
       "      <td>13.95</td>\n",
       "      <td>0.900000</td>\n",
       "      <td>4.083333</td>\n",
       "      <td>134.707778</td>\n",
       "      <td>Poor</td>\n",
       "      <td>2</td>\n",
       "    </tr>\n",
       "    <tr>\n",
       "      <th>2</th>\n",
       "      <td>25.8</td>\n",
       "      <td>5.5</td>\n",
       "      <td>7.8</td>\n",
       "      <td>355.0</td>\n",
       "      <td>4.2</td>\n",
       "      <td>9.00</td>\n",
       "      <td>59.0</td>\n",
       "      <td>0.286875</td>\n",
       "      <td>0.101333</td>\n",
       "      <td>94.4</td>\n",
       "      <td>0.800000</td>\n",
       "      <td>18.90</td>\n",
       "      <td>1.183333</td>\n",
       "      <td>4.300000</td>\n",
       "      <td>119.971542</td>\n",
       "      <td>Poor</td>\n",
       "      <td>2</td>\n",
       "    </tr>\n",
       "    <tr>\n",
       "      <th>3</th>\n",
       "      <td>24.8</td>\n",
       "      <td>5.5</td>\n",
       "      <td>7.8</td>\n",
       "      <td>371.0</td>\n",
       "      <td>5.6</td>\n",
       "      <td>3.55</td>\n",
       "      <td>90.0</td>\n",
       "      <td>0.286875</td>\n",
       "      <td>0.101333</td>\n",
       "      <td>144.0</td>\n",
       "      <td>0.315556</td>\n",
       "      <td>25.20</td>\n",
       "      <td>1.236667</td>\n",
       "      <td>4.133333</td>\n",
       "      <td>175.273764</td>\n",
       "      <td>Very Poor</td>\n",
       "      <td>4</td>\n",
       "    </tr>\n",
       "    <tr>\n",
       "      <th>4</th>\n",
       "      <td>25.7</td>\n",
       "      <td>5.7</td>\n",
       "      <td>7.9</td>\n",
       "      <td>294.0</td>\n",
       "      <td>3.2</td>\n",
       "      <td>2.69</td>\n",
       "      <td>45.0</td>\n",
       "      <td>0.280125</td>\n",
       "      <td>0.114000</td>\n",
       "      <td>72.0</td>\n",
       "      <td>0.239111</td>\n",
       "      <td>14.40</td>\n",
       "      <td>0.980000</td>\n",
       "      <td>4.283333</td>\n",
       "      <td>92.296569</td>\n",
       "      <td>Good</td>\n",
       "      <td>1</td>\n",
       "    </tr>\n",
       "  </tbody>\n",
       "</table>\n",
       "</div>"
      ],
      "text/plain": [
       "   TEMP   DO   pH  CONDUCTIVITY  BOD  NITRATE_N_NITRITE_N  FECAL_COLIFORM  \\\n",
       "0  29.2  6.4  8.1         735.0  3.4                 2.00             3.0   \n",
       "1  24.5  6.0  8.0         270.0  3.1                 2.00            72.0   \n",
       "2  25.8  5.5  7.8         355.0  4.2                 9.00            59.0   \n",
       "3  24.8  5.5  7.8         371.0  5.6                 3.55            90.0   \n",
       "4  25.7  5.7  7.9         294.0  3.2                 2.69            45.0   \n",
       "\n",
       "      DO_WI     PH_WI  FC_WI  NITRATE_WI  BOD_WI     EC_WI   Temp_WI  \\\n",
       "0  0.256500  0.139333    4.8    0.177778   15.30  2.450000  4.866667   \n",
       "1  0.270000  0.126667  115.2    0.177778   13.95  0.900000  4.083333   \n",
       "2  0.286875  0.101333   94.4    0.800000   18.90  1.183333  4.300000   \n",
       "3  0.286875  0.101333  144.0    0.315556   25.20  1.236667  4.133333   \n",
       "4  0.280125  0.114000   72.0    0.239111   14.40  0.980000  4.283333   \n",
       "\n",
       "          WQI    Quality  Quality_le  \n",
       "0   27.990278  Excellent           0  \n",
       "1  134.707778       Poor           2  \n",
       "2  119.971542       Poor           2  \n",
       "3  175.273764  Very Poor           4  \n",
       "4   92.296569       Good           1  "
      ]
     },
     "execution_count": 34,
     "metadata": {},
     "output_type": "execute_result"
    }
   ],
   "source": [
    "df.head()"
   ]
  },
  {
   "cell_type": "code",
   "execution_count": 37,
   "metadata": {
    "gather": {
     "logged": 1628752856867
    }
   },
   "outputs": [
    {
     "data": {
      "text/html": [
       "<div>\n",
       "<style scoped>\n",
       "    .dataframe tbody tr th:only-of-type {\n",
       "        vertical-align: middle;\n",
       "    }\n",
       "\n",
       "    .dataframe tbody tr th {\n",
       "        vertical-align: top;\n",
       "    }\n",
       "\n",
       "    .dataframe thead th {\n",
       "        text-align: right;\n",
       "    }\n",
       "</style>\n",
       "<table border=\"1\" class=\"dataframe\">\n",
       "  <thead>\n",
       "    <tr style=\"text-align: right;\">\n",
       "      <th></th>\n",
       "      <th>TEMP</th>\n",
       "      <th>DO</th>\n",
       "      <th>pH</th>\n",
       "      <th>CONDUCTIVITY</th>\n",
       "      <th>BOD</th>\n",
       "      <th>NITRATE_N_NITRITE_N</th>\n",
       "      <th>FECAL_COLIFORM</th>\n",
       "      <th>WQI</th>\n",
       "      <th>Quality_le</th>\n",
       "    </tr>\n",
       "  </thead>\n",
       "  <tbody>\n",
       "    <tr>\n",
       "      <th>0</th>\n",
       "      <td>29.2</td>\n",
       "      <td>6.4</td>\n",
       "      <td>8.1</td>\n",
       "      <td>735.0</td>\n",
       "      <td>3.4</td>\n",
       "      <td>2.00</td>\n",
       "      <td>3.0</td>\n",
       "      <td>27.990278</td>\n",
       "      <td>1</td>\n",
       "    </tr>\n",
       "    <tr>\n",
       "      <th>1</th>\n",
       "      <td>24.5</td>\n",
       "      <td>6.0</td>\n",
       "      <td>8.0</td>\n",
       "      <td>270.0</td>\n",
       "      <td>3.1</td>\n",
       "      <td>2.00</td>\n",
       "      <td>72.0</td>\n",
       "      <td>134.707778</td>\n",
       "      <td>3</td>\n",
       "    </tr>\n",
       "    <tr>\n",
       "      <th>2</th>\n",
       "      <td>25.8</td>\n",
       "      <td>5.5</td>\n",
       "      <td>7.8</td>\n",
       "      <td>355.0</td>\n",
       "      <td>4.2</td>\n",
       "      <td>9.00</td>\n",
       "      <td>59.0</td>\n",
       "      <td>119.971542</td>\n",
       "      <td>3</td>\n",
       "    </tr>\n",
       "    <tr>\n",
       "      <th>3</th>\n",
       "      <td>24.8</td>\n",
       "      <td>5.5</td>\n",
       "      <td>7.8</td>\n",
       "      <td>371.0</td>\n",
       "      <td>5.6</td>\n",
       "      <td>3.55</td>\n",
       "      <td>90.0</td>\n",
       "      <td>175.273764</td>\n",
       "      <td>3</td>\n",
       "    </tr>\n",
       "    <tr>\n",
       "      <th>4</th>\n",
       "      <td>25.7</td>\n",
       "      <td>5.7</td>\n",
       "      <td>7.9</td>\n",
       "      <td>294.0</td>\n",
       "      <td>3.2</td>\n",
       "      <td>2.69</td>\n",
       "      <td>45.0</td>\n",
       "      <td>92.296569</td>\n",
       "      <td>4</td>\n",
       "    </tr>\n",
       "    <tr>\n",
       "      <th>...</th>\n",
       "      <td>...</td>\n",
       "      <td>...</td>\n",
       "      <td>...</td>\n",
       "      <td>...</td>\n",
       "      <td>...</td>\n",
       "      <td>...</td>\n",
       "      <td>...</td>\n",
       "      <td>...</td>\n",
       "      <td>...</td>\n",
       "    </tr>\n",
       "    <tr>\n",
       "      <th>529</th>\n",
       "      <td>23.2</td>\n",
       "      <td>4.4</td>\n",
       "      <td>8.1</td>\n",
       "      <td>538.0</td>\n",
       "      <td>1.2</td>\n",
       "      <td>1.00</td>\n",
       "      <td>5.0</td>\n",
       "      <td>19.612222</td>\n",
       "      <td>0</td>\n",
       "    </tr>\n",
       "    <tr>\n",
       "      <th>530</th>\n",
       "      <td>22.9</td>\n",
       "      <td>5.6</td>\n",
       "      <td>8.4</td>\n",
       "      <td>591.0</td>\n",
       "      <td>1.1</td>\n",
       "      <td>3.00</td>\n",
       "      <td>4.0</td>\n",
       "      <td>17.864167</td>\n",
       "      <td>0</td>\n",
       "    </tr>\n",
       "    <tr>\n",
       "      <th>531</th>\n",
       "      <td>22.9</td>\n",
       "      <td>5.8</td>\n",
       "      <td>8.5</td>\n",
       "      <td>588.0</td>\n",
       "      <td>1.2</td>\n",
       "      <td>3.00</td>\n",
       "      <td>4.0</td>\n",
       "      <td>18.310083</td>\n",
       "      <td>0</td>\n",
       "    </tr>\n",
       "    <tr>\n",
       "      <th>532</th>\n",
       "      <td>28.7</td>\n",
       "      <td>4.1</td>\n",
       "      <td>7.9</td>\n",
       "      <td>1133.0</td>\n",
       "      <td>2.3</td>\n",
       "      <td>2.00</td>\n",
       "      <td>7.0</td>\n",
       "      <td>30.735903</td>\n",
       "      <td>1</td>\n",
       "    </tr>\n",
       "    <tr>\n",
       "      <th>533</th>\n",
       "      <td>24.3</td>\n",
       "      <td>3.5</td>\n",
       "      <td>8.9</td>\n",
       "      <td>2004.0</td>\n",
       "      <td>6.5</td>\n",
       "      <td>1.00</td>\n",
       "      <td>13.0</td>\n",
       "      <td>61.463931</td>\n",
       "      <td>2</td>\n",
       "    </tr>\n",
       "  </tbody>\n",
       "</table>\n",
       "<p>526 rows × 9 columns</p>\n",
       "</div>"
      ],
      "text/plain": [
       "     TEMP   DO   pH  CONDUCTIVITY  BOD  NITRATE_N_NITRITE_N  FECAL_COLIFORM  \\\n",
       "0    29.2  6.4  8.1         735.0  3.4                 2.00             3.0   \n",
       "1    24.5  6.0  8.0         270.0  3.1                 2.00            72.0   \n",
       "2    25.8  5.5  7.8         355.0  4.2                 9.00            59.0   \n",
       "3    24.8  5.5  7.8         371.0  5.6                 3.55            90.0   \n",
       "4    25.7  5.7  7.9         294.0  3.2                 2.69            45.0   \n",
       "..    ...  ...  ...           ...  ...                  ...             ...   \n",
       "529  23.2  4.4  8.1         538.0  1.2                 1.00             5.0   \n",
       "530  22.9  5.6  8.4         591.0  1.1                 3.00             4.0   \n",
       "531  22.9  5.8  8.5         588.0  1.2                 3.00             4.0   \n",
       "532  28.7  4.1  7.9        1133.0  2.3                 2.00             7.0   \n",
       "533  24.3  3.5  8.9        2004.0  6.5                 1.00            13.0   \n",
       "\n",
       "            WQI  Quality_le  \n",
       "0     27.990278           1  \n",
       "1    134.707778           3  \n",
       "2    119.971542           3  \n",
       "3    175.273764           3  \n",
       "4     92.296569           4  \n",
       "..          ...         ...  \n",
       "529   19.612222           0  \n",
       "530   17.864167           0  \n",
       "531   18.310083           0  \n",
       "532   30.735903           1  \n",
       "533   61.463931           2  \n",
       "\n",
       "[526 rows x 9 columns]"
      ]
     },
     "execution_count": 37,
     "metadata": {},
     "output_type": "execute_result"
    }
   ],
   "source": [
    "#setting up data to predict water quality \n",
    "df_new2 = df[['TEMP', 'DO', 'pH', 'CONDUCTIVITY', 'BOD', 'NITRATE_N_NITRITE_N', 'FECAL_COLIFORM','WQI','Quality_le']]\n",
    "df_new2"
   ]
  },
  {
   "cell_type": "code",
   "execution_count": 38,
   "metadata": {
    "gather": {
     "logged": 1628752869189
    }
   },
   "outputs": [],
   "source": [
    "#Predicting water quality: splitting data. 80% for training and 20% for testing\n",
    "features2 = df_new2.drop('Quality_le',axis=1)\n",
    "labels2 = df_new2['Quality_le']\n",
    "X_train1, X_test1, y_train1, y_test1 = train_test_split(features2, labels2, test_size=0.2, random_state=0)"
   ]
  },
  {
   "cell_type": "markdown",
   "metadata": {},
   "source": [
    "## 7.2 Training and Testing Different Models <a class=\"anchor\" id=\"TnTModels\" ></a>"
   ]
  },
  {
   "cell_type": "markdown",
   "metadata": {
    "nteract": {
     "transient": {
      "deleting": false
     }
    }
   },
   "source": [
    "Different models were tested to finally come out with the Best Model.\n",
    "In using the pipeline with StandardScaler as the normalizer, GradientBoostingClassifier had the greatest\n",
    "score of 0.99. Almost a perfect prediction"
   ]
  },
  {
   "cell_type": "code",
   "execution_count": 39,
   "metadata": {
    "gather": {
     "logged": 1628752911312
    }
   },
   "outputs": [
    {
     "name": "stdout",
     "output_type": "stream",
     "text": [
      "score is 0.9905660377358491\n",
      "Mean squared error: 0.04\n",
      "Variance score: 0.99\n",
      "              precision    recall  f1-score   support\n",
      "\n",
      "           0       1.00      1.00      1.00         9\n",
      "           1       1.00      1.00      1.00        15\n",
      "           2       1.00      0.90      0.95        10\n",
      "           3       1.00      1.00      1.00        69\n",
      "           4       0.75      1.00      0.86         3\n",
      "\n",
      "    accuracy                           0.99       106\n",
      "   macro avg       0.95      0.98      0.96       106\n",
      "weighted avg       0.99      0.99      0.99       106\n",
      "\n",
      "[[ 9  0  0  0  0]\n",
      " [ 0 15  0  0  0]\n",
      " [ 0  0  9  0  1]\n",
      " [ 0  0  0 69  0]\n",
      " [ 0  0  0  0  3]]\n"
     ]
    },
    {
     "data": {
      "text/plain": [
       "['Quality.pkl']"
      ]
     },
     "execution_count": 39,
     "metadata": {},
     "output_type": "execute_result"
    }
   ],
   "source": [
    "import joblib\n",
    "\n",
    "pipe1 = Pipeline([('scaler', StandardScaler()), ('XGB',GradientBoostingClassifier())])\n",
    "pipe1.fit(X_train1, y_train1)\n",
    "score = pipe1.score(X_test1, y_test1)\n",
    "print(\"score is \" + str(score))\n",
    "# The mean squared error\n",
    "print(\"Mean squared error: %.2f\" % np.mean((pipe1.predict(X_test1) - y_test1) ** 2))\n",
    "# Explained variance score: 1 is perfect prediction\n",
    "print('Variance score: %.2f' % pipe1.score(X_test1, y_test1))\n",
    "preds = pipe1.predict(X_test1)\n",
    "print(classification_report(y_test1, preds))\n",
    "cm = confusion_matrix(y_test1, preds)\n",
    "print(cm)\n",
    "joblib.dump(pipe1, 'Quality.pkl')"
   ]
  },
  {
   "cell_type": "markdown",
   "metadata": {
    "nteract": {
     "transient": {
      "deleting": false
     }
    }
   },
   "source": [
    "Without using the pipeline, data was scaled separately. we then trained more than one classifer of which GradientBoostingClassifier and RandomForest had high scores. The models we chose were selected because they support multiclass classification in our case"
   ]
  },
  {
   "cell_type": "code",
   "execution_count": 40,
   "metadata": {
    "gather": {
     "logged": 1628752943419
    }
   },
   "outputs": [],
   "source": [
    "scaler = StandardScaler()\n",
    "scaler.fit(X_train1)\n",
    "X_train1 = scaler.transform(X_train1)\n",
    "X_test1 = scaler.transform(X_test1)"
   ]
  },
  {
   "cell_type": "code",
   "execution_count": 41,
   "metadata": {
    "gather": {
     "logged": 1628752953859
    }
   },
   "outputs": [],
   "source": [
    "filterwarnings('ignore')\n",
    "models =[(\"LR\", LogisticRegression()),(\"SVC\", SVC()),('KNN',KNeighborsClassifier(n_neighbors=30)),\n",
    "         ('RF',RandomForestClassifier()),('XGB',GradientBoostingClassifier())]\n",
    "\n",
    "results = []\n",
    "names = []\n",
    "finalResults = []\n",
    "\n",
    "for name,model in models:\n",
    "    model.fit(X_train1, y_train1)\n",
    "    model_results = model.predict(X_test1)\n",
    "    score = precision_score(y_test1, model_results,average='weighted')\n",
    "    results.append(score)\n",
    "    names.append(name)\n",
    "    finalResults.append((name,score))\n",
    "    \n",
    "finalResults.sort(key=lambda k:k[1],reverse=True)"
   ]
  },
  {
   "cell_type": "code",
   "execution_count": 42,
   "metadata": {
    "gather": {
     "logged": 1628752979933
    }
   },
   "outputs": [
    {
     "data": {
      "text/plain": [
       "[('XGB', 0.9929245283018868),\n",
       " ('RF', 0.9617179741807349),\n",
       " ('KNN', 0.5884433962264151),\n",
       " ('SVC', 0.5167815674891146),\n",
       " ('LR', 0.4971412235563179)]"
      ]
     },
     "execution_count": 42,
     "metadata": {},
     "output_type": "execute_result"
    }
   ],
   "source": [
    "finalResults"
   ]
  },
  {
   "cell_type": "markdown",
   "metadata": {
    "nteract": {
     "transient": {
      "deleting": false
     }
    }
   },
   "source": [
    "## 8. Using Saved models to predict water quality <a class=\"anchor\" id=\"SavedModels\" ></a>"
   ]
  },
  {
   "cell_type": "code",
   "execution_count": 43,
   "metadata": {},
   "outputs": [],
   "source": [
    "#Read test_set data\n",
    "data = pd.read_csv('test_set.csv')"
   ]
  },
  {
   "cell_type": "code",
   "execution_count": 44,
   "metadata": {},
   "outputs": [
    {
     "data": {
      "text/html": [
       "<div>\n",
       "<style scoped>\n",
       "    .dataframe tbody tr th:only-of-type {\n",
       "        vertical-align: middle;\n",
       "    }\n",
       "\n",
       "    .dataframe tbody tr th {\n",
       "        vertical-align: top;\n",
       "    }\n",
       "\n",
       "    .dataframe thead th {\n",
       "        text-align: right;\n",
       "    }\n",
       "</style>\n",
       "<table border=\"1\" class=\"dataframe\">\n",
       "  <thead>\n",
       "    <tr style=\"text-align: right;\">\n",
       "      <th></th>\n",
       "      <th>TEMP</th>\n",
       "      <th>DO</th>\n",
       "      <th>pH</th>\n",
       "      <th>CONDUCTIVITY</th>\n",
       "      <th>BOD</th>\n",
       "      <th>NITRATE_N_NITRITE_N</th>\n",
       "      <th>FECAL_COLIFORM</th>\n",
       "    </tr>\n",
       "  </thead>\n",
       "  <tbody>\n",
       "    <tr>\n",
       "      <th>0</th>\n",
       "      <td>37.2</td>\n",
       "      <td>5.8</td>\n",
       "      <td>6.4</td>\n",
       "      <td>650</td>\n",
       "      <td>2.1</td>\n",
       "      <td>2.3</td>\n",
       "      <td>2</td>\n",
       "    </tr>\n",
       "  </tbody>\n",
       "</table>\n",
       "</div>"
      ],
      "text/plain": [
       "   TEMP   DO   pH  CONDUCTIVITY  BOD  NITRATE_N_NITRITE_N  FECAL_COLIFORM\n",
       "0  37.2  5.8  6.4           650  2.1                  2.3               2"
      ]
     },
     "execution_count": 44,
     "metadata": {},
     "output_type": "execute_result"
    }
   ],
   "source": [
    "data.head()"
   ]
  },
  {
   "cell_type": "code",
   "execution_count": null,
   "metadata": {},
   "outputs": [],
   "source": [
    "data.dtypes"
   ]
  },
  {
   "cell_type": "code",
   "execution_count": 45,
   "metadata": {},
   "outputs": [],
   "source": [
    "Temp_WI = 0.05 * 100 * (data['TEMP']/30)\n",
    "EC_WI = 0.01 * 100 * (data['CONDUCTIVITY']/300)\n",
    "BOD_WI = 0.27 * 100 * (data['BOD']/6)\n",
    "NITRATE_WI = 0.04 * 100 * (data['NITRATE_N_NITRITE_N']/45)\n",
    "FC_WI = 0.16 * 100 * (data['FECAL_COLIFORM']/10)\n",
    "PH_WI = (abs(data['pH'] - 7)/1.5)* 0.19\n",
    "DO_WI = (abs(data['DO'] - 14)/8)* 0.27\n",
    "\n",
    "data['WQI'] = DO_WI + PH_WI + FC_WI + NITRATE_WI + BOD_WI + EC_WI + Temp_WI"
   ]
  },
  {
   "cell_type": "code",
   "execution_count": 46,
   "metadata": {},
   "outputs": [
    {
     "data": {
      "text/html": [
       "<div>\n",
       "<style scoped>\n",
       "    .dataframe tbody tr th:only-of-type {\n",
       "        vertical-align: middle;\n",
       "    }\n",
       "\n",
       "    .dataframe tbody tr th {\n",
       "        vertical-align: top;\n",
       "    }\n",
       "\n",
       "    .dataframe thead th {\n",
       "        text-align: right;\n",
       "    }\n",
       "</style>\n",
       "<table border=\"1\" class=\"dataframe\">\n",
       "  <thead>\n",
       "    <tr style=\"text-align: right;\">\n",
       "      <th></th>\n",
       "      <th>TEMP</th>\n",
       "      <th>DO</th>\n",
       "      <th>pH</th>\n",
       "      <th>CONDUCTIVITY</th>\n",
       "      <th>BOD</th>\n",
       "      <th>NITRATE_N_NITRITE_N</th>\n",
       "      <th>FECAL_COLIFORM</th>\n",
       "      <th>WQI</th>\n",
       "    </tr>\n",
       "  </thead>\n",
       "  <tbody>\n",
       "    <tr>\n",
       "      <th>0</th>\n",
       "      <td>37.2</td>\n",
       "      <td>5.8</td>\n",
       "      <td>6.4</td>\n",
       "      <td>650</td>\n",
       "      <td>2.1</td>\n",
       "      <td>2.3</td>\n",
       "      <td>2</td>\n",
       "      <td>21.573861</td>\n",
       "    </tr>\n",
       "  </tbody>\n",
       "</table>\n",
       "</div>"
      ],
      "text/plain": [
       "   TEMP   DO   pH  CONDUCTIVITY  BOD  NITRATE_N_NITRITE_N  FECAL_COLIFORM  \\\n",
       "0  37.2  5.8  6.4           650  2.1                  2.3               2   \n",
       "\n",
       "         WQI  \n",
       "0  21.573861  "
      ]
     },
     "execution_count": 46,
     "metadata": {},
     "output_type": "execute_result"
    }
   ],
   "source": [
    "data.head()"
   ]
  },
  {
   "cell_type": "code",
   "execution_count": 47,
   "metadata": {},
   "outputs": [],
   "source": [
    "#Loading the saved model with joblib\n",
    "import joblib\n",
    "pipes = joblib.load('QualityIndex.pkl')"
   ]
  },
  {
   "cell_type": "code",
   "execution_count": 48,
   "metadata": {},
   "outputs": [],
   "source": [
    "#New data to predict\n",
    "pred_cols = list(data.columns.values)[:-1]"
   ]
  },
  {
   "cell_type": "code",
   "execution_count": 49,
   "metadata": {},
   "outputs": [
    {
     "data": {
      "text/plain": [
       "['TEMP',\n",
       " 'DO',\n",
       " 'pH',\n",
       " 'CONDUCTIVITY',\n",
       " 'BOD',\n",
       " 'NITRATE_N_NITRITE_N',\n",
       " 'FECAL_COLIFORM']"
      ]
     },
     "execution_count": 49,
     "metadata": {},
     "output_type": "execute_result"
    }
   ],
   "source": [
    "pred_cols"
   ]
  },
  {
   "cell_type": "code",
   "execution_count": 50,
   "metadata": {},
   "outputs": [
    {
     "name": "stdout",
     "output_type": "stream",
     "text": [
      "0    21.45651\n",
      "dtype: float64\n"
     ]
    }
   ],
   "source": [
    "# apply the whole pipeline to data\n",
    "pred = pd.Series(pipes.predict(data[pred_cols]))\n",
    "print(pred)"
   ]
  },
  {
   "cell_type": "code",
   "execution_count": 51,
   "metadata": {},
   "outputs": [
    {
     "data": {
      "text/html": [
       "<div>\n",
       "<style scoped>\n",
       "    .dataframe tbody tr th:only-of-type {\n",
       "        vertical-align: middle;\n",
       "    }\n",
       "\n",
       "    .dataframe tbody tr th {\n",
       "        vertical-align: top;\n",
       "    }\n",
       "\n",
       "    .dataframe thead th {\n",
       "        text-align: right;\n",
       "    }\n",
       "</style>\n",
       "<table border=\"1\" class=\"dataframe\">\n",
       "  <thead>\n",
       "    <tr style=\"text-align: right;\">\n",
       "      <th></th>\n",
       "      <th>TEMP</th>\n",
       "      <th>DO</th>\n",
       "      <th>pH</th>\n",
       "      <th>CONDUCTIVITY</th>\n",
       "      <th>BOD</th>\n",
       "      <th>NITRATE_N_NITRITE_N</th>\n",
       "      <th>FECAL_COLIFORM</th>\n",
       "      <th>WQI</th>\n",
       "    </tr>\n",
       "  </thead>\n",
       "  <tbody>\n",
       "    <tr>\n",
       "      <th>0</th>\n",
       "      <td>37.2</td>\n",
       "      <td>5.8</td>\n",
       "      <td>6.4</td>\n",
       "      <td>650</td>\n",
       "      <td>2.1</td>\n",
       "      <td>2.3</td>\n",
       "      <td>2</td>\n",
       "      <td>21.573861</td>\n",
       "    </tr>\n",
       "  </tbody>\n",
       "</table>\n",
       "</div>"
      ],
      "text/plain": [
       "   TEMP   DO   pH  CONDUCTIVITY  BOD  NITRATE_N_NITRITE_N  FECAL_COLIFORM  \\\n",
       "0  37.2  5.8  6.4           650  2.1                  2.3               2   \n",
       "\n",
       "         WQI  \n",
       "0  21.573861  "
      ]
     },
     "execution_count": 51,
     "metadata": {},
     "output_type": "execute_result"
    }
   ],
   "source": [
    "data.head()"
   ]
  },
  {
   "cell_type": "code",
   "execution_count": 52,
   "metadata": {},
   "outputs": [],
   "source": [
    "#classifying the water on the basis of their water quality index.\n",
    "data['Quality']=data.WQI.apply(lambda x:('Excellent' if (25>=x>=0)  \n",
    "                                 else('Good' if  (50>=x>=26) \n",
    "                                      else('Poor' if (75>=x>=51)\n",
    "                                          else('Very Poor' if (100>=x>=76) \n",
    "                                              else 'Unsuitable')))))"
   ]
  },
  {
   "cell_type": "code",
   "execution_count": 53,
   "metadata": {},
   "outputs": [
    {
     "data": {
      "text/html": [
       "<div>\n",
       "<style scoped>\n",
       "    .dataframe tbody tr th:only-of-type {\n",
       "        vertical-align: middle;\n",
       "    }\n",
       "\n",
       "    .dataframe tbody tr th {\n",
       "        vertical-align: top;\n",
       "    }\n",
       "\n",
       "    .dataframe thead th {\n",
       "        text-align: right;\n",
       "    }\n",
       "</style>\n",
       "<table border=\"1\" class=\"dataframe\">\n",
       "  <thead>\n",
       "    <tr style=\"text-align: right;\">\n",
       "      <th></th>\n",
       "      <th>TEMP</th>\n",
       "      <th>DO</th>\n",
       "      <th>pH</th>\n",
       "      <th>CONDUCTIVITY</th>\n",
       "      <th>BOD</th>\n",
       "      <th>NITRATE_N_NITRITE_N</th>\n",
       "      <th>FECAL_COLIFORM</th>\n",
       "      <th>WQI</th>\n",
       "      <th>Quality</th>\n",
       "    </tr>\n",
       "  </thead>\n",
       "  <tbody>\n",
       "    <tr>\n",
       "      <th>0</th>\n",
       "      <td>37.2</td>\n",
       "      <td>5.8</td>\n",
       "      <td>6.4</td>\n",
       "      <td>650</td>\n",
       "      <td>2.1</td>\n",
       "      <td>2.3</td>\n",
       "      <td>2</td>\n",
       "      <td>21.573861</td>\n",
       "      <td>Excellent</td>\n",
       "    </tr>\n",
       "  </tbody>\n",
       "</table>\n",
       "</div>"
      ],
      "text/plain": [
       "   TEMP   DO   pH  CONDUCTIVITY  BOD  NITRATE_N_NITRITE_N  FECAL_COLIFORM  \\\n",
       "0  37.2  5.8  6.4           650  2.1                  2.3               2   \n",
       "\n",
       "         WQI    Quality  \n",
       "0  21.573861  Excellent  "
      ]
     },
     "execution_count": 53,
     "metadata": {},
     "output_type": "execute_result"
    }
   ],
   "source": [
    "data.head()"
   ]
  },
  {
   "cell_type": "code",
   "execution_count": 54,
   "metadata": {},
   "outputs": [],
   "source": [
    "#encoding the string Quality which is string to numeric\n",
    "from sklearn import preprocessing\n",
    "le = preprocessing.LabelEncoder()\n",
    "data['Quality_le'] = le.fit_transform(data.Quality.values)"
   ]
  },
  {
   "cell_type": "code",
   "execution_count": 55,
   "metadata": {},
   "outputs": [
    {
     "data": {
      "text/html": [
       "<div>\n",
       "<style scoped>\n",
       "    .dataframe tbody tr th:only-of-type {\n",
       "        vertical-align: middle;\n",
       "    }\n",
       "\n",
       "    .dataframe tbody tr th {\n",
       "        vertical-align: top;\n",
       "    }\n",
       "\n",
       "    .dataframe thead th {\n",
       "        text-align: right;\n",
       "    }\n",
       "</style>\n",
       "<table border=\"1\" class=\"dataframe\">\n",
       "  <thead>\n",
       "    <tr style=\"text-align: right;\">\n",
       "      <th></th>\n",
       "      <th>TEMP</th>\n",
       "      <th>DO</th>\n",
       "      <th>pH</th>\n",
       "      <th>CONDUCTIVITY</th>\n",
       "      <th>BOD</th>\n",
       "      <th>NITRATE_N_NITRITE_N</th>\n",
       "      <th>FECAL_COLIFORM</th>\n",
       "      <th>WQI</th>\n",
       "      <th>Quality</th>\n",
       "      <th>Quality_le</th>\n",
       "    </tr>\n",
       "  </thead>\n",
       "  <tbody>\n",
       "    <tr>\n",
       "      <th>0</th>\n",
       "      <td>37.2</td>\n",
       "      <td>5.8</td>\n",
       "      <td>6.4</td>\n",
       "      <td>650</td>\n",
       "      <td>2.1</td>\n",
       "      <td>2.3</td>\n",
       "      <td>2</td>\n",
       "      <td>21.573861</td>\n",
       "      <td>Excellent</td>\n",
       "      <td>0</td>\n",
       "    </tr>\n",
       "  </tbody>\n",
       "</table>\n",
       "</div>"
      ],
      "text/plain": [
       "   TEMP   DO   pH  CONDUCTIVITY  BOD  NITRATE_N_NITRITE_N  FECAL_COLIFORM  \\\n",
       "0  37.2  5.8  6.4           650  2.1                  2.3               2   \n",
       "\n",
       "         WQI    Quality  Quality_le  \n",
       "0  21.573861  Excellent           0  "
      ]
     },
     "execution_count": 55,
     "metadata": {},
     "output_type": "execute_result"
    }
   ],
   "source": [
    "data.head()"
   ]
  },
  {
   "cell_type": "code",
   "execution_count": 56,
   "metadata": {},
   "outputs": [],
   "source": [
    "data = data.drop('Quality', axis = 1)"
   ]
  },
  {
   "cell_type": "code",
   "execution_count": 57,
   "metadata": {},
   "outputs": [],
   "source": [
    "pipes = joblib.load('Quality.pkl')"
   ]
  },
  {
   "cell_type": "code",
   "execution_count": 58,
   "metadata": {},
   "outputs": [
    {
     "data": {
      "text/plain": [
       "['TEMP',\n",
       " 'DO',\n",
       " 'pH',\n",
       " 'CONDUCTIVITY',\n",
       " 'BOD',\n",
       " 'NITRATE_N_NITRITE_N',\n",
       " 'FECAL_COLIFORM',\n",
       " 'WQI']"
      ]
     },
     "execution_count": 58,
     "metadata": {},
     "output_type": "execute_result"
    }
   ],
   "source": [
    "pred_cols = list(data.columns.values)[:-1]\n",
    "pred_cols"
   ]
  },
  {
   "cell_type": "code",
   "execution_count": 59,
   "metadata": {},
   "outputs": [
    {
     "name": "stdout",
     "output_type": "stream",
     "text": [
      "[0]\n"
     ]
    }
   ],
   "source": [
    "pred = pd.Series(pipes.predict(data[pred_cols]))\n",
    "pred = le.fit_transform(pred.values)\n",
    "print(pred)"
   ]
  },
  {
   "cell_type": "code",
   "execution_count": null,
   "metadata": {},
   "outputs": [],
   "source": []
  }
 ],
 "metadata": {
  "kernel_info": {
   "name": "python3"
  },
  "kernelspec": {
   "display_name": "Python 3",
   "language": "python",
   "name": "python3"
  },
  "language_info": {
   "codemirror_mode": {
    "name": "ipython",
    "version": 3
   },
   "file_extension": ".py",
   "mimetype": "text/x-python",
   "name": "python",
   "nbconvert_exporter": "python",
   "pygments_lexer": "ipython3",
   "version": "3.8.5"
  },
  "nteract": {
   "version": "nteract-front-end@1.0.0"
  }
 },
 "nbformat": 4,
 "nbformat_minor": 4
}
